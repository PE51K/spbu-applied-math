{
 "cells": [
  {
   "cell_type": "code",
   "execution_count": 1,
   "outputs": [
    {
     "name": "stdout",
     "output_type": "stream",
     "text": [
      "Максимальное количество золота: 13.64876688384\n",
      "Шаги: [2, 1, 2, 1, 2, 1, 1, 2, 1, 1]\n"
     ]
    }
   ],
   "source": [
    "def optimal_strategy(x, y, n, a, b, p, q):\n",
    "    if n == 0:\n",
    "        return 0, []\n",
    "    \n",
    "    option1, steps1 = optimal_strategy(x - a * x, y, n - 1, a, b, p, q)\n",
    "    option1 = (1 - p) * a * x + (1 - p) * option1\n",
    "    option2, steps2 = optimal_strategy(x, y - b * y, n - 1, a, b, p, q)\n",
    "    option2 = (1 - q) * b * y + (1 - q) * option2\n",
    "    \n",
    "    if max(option1, option2) == option1:\n",
    "        return option1, [1] + steps1\n",
    "    else:\n",
    "        return option2, [2] + steps2\n",
    "\n",
    "# Пример использования\n",
    "x = 10\n",
    "y = 10\n",
    "\n",
    "a = 0.5\n",
    "b = 0.7\n",
    "\n",
    "p = 0.2\n",
    "q = 0.1\n",
    "\n",
    "n = 10\n",
    "\n",
    "result, steps = optimal_strategy(x, y, n, a, b, p, q)\n",
    "print(f\"Максимальное количество золота: {result}\")\n",
    "print(f\"Шаги: {steps}\")"
   ],
   "metadata": {
    "collapsed": false,
    "ExecuteTime": {
     "end_time": "2024-01-11T11:33:27.996749466Z",
     "start_time": "2024-01-11T11:33:27.990773975Z"
    }
   },
   "id": "8ee6a913951c67c1"
  },
  {
   "cell_type": "code",
   "execution_count": 47,
   "outputs": [
    {
     "name": "stdout",
     "output_type": "stream",
     "text": [
      "Максимальное количество золота: 19.229869381879997\n"
     ]
    }
   ],
   "source": [
    "def optimal_strategy_multi(x_values, n, a_values, p_values):\n",
    "    if n == 0:\n",
    "        return 0\n",
    "    \n",
    "    options = []\n",
    "    m = len(x_values)\n",
    "    for i in range(m):\n",
    "        option = (1 - p_values[i]) * a_values[i] * x_values[i] + (1 - p_values[i]) * optimal_strategy_multi(x_values[:i] + [x_values[i] - a_values[i] * x_values[i]] + x_values[i + 1:], n - 1, a_values, p_values)\n",
    "        options.append(option)\n",
    "    \n",
    "    return max(options)\n",
    "\n",
    "# Пример использования\n",
    "x_values = [x, y, 10]\n",
    "a_values = [a, b, 0.4]\n",
    "p_values = [p, q, 0.05]\n",
    "\n",
    "n = 10\n",
    "\n",
    "result = optimal_strategy_multi(x_values, n, a_values, p_values)\n",
    "print(f\"Максимальное количество золота: {result}\")"
   ],
   "metadata": {
    "collapsed": false,
    "ExecuteTime": {
     "end_time": "2024-01-10T10:54:13.097864092Z",
     "start_time": "2024-01-10T10:54:12.879402617Z"
    }
   },
   "id": "4d2f6d09a2887f62"
  }
 ],
 "metadata": {
  "kernelspec": {
   "display_name": "Python 3",
   "language": "python",
   "name": "python3"
  },
  "language_info": {
   "codemirror_mode": {
    "name": "ipython",
    "version": 2
   },
   "file_extension": ".py",
   "mimetype": "text/x-python",
   "name": "python",
   "nbconvert_exporter": "python",
   "pygments_lexer": "ipython2",
   "version": "2.7.6"
  }
 },
 "nbformat": 4,
 "nbformat_minor": 5
}
