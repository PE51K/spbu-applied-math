{
 "cells": [
  {
   "cell_type": "code",
   "execution_count": 1,
   "metadata": {
    "collapsed": true
   },
   "outputs": [],
   "source": [
    "import numpy as np\n",
    "\n",
    "def hes_transform(a):\n",
    "    dim = a.shape[0]\n",
    "    h = np.eye(dim)\n",
    "    for i in range(0, dim-2):\n",
    "        s = np.sign(a[i + 1, i]) * np.linalg.norm(a[i + 1:dim, i])\n",
    "        mu = 1/np.sqrt(2 * s * (s - a[i + 1, i]))\n",
    "        v = [0]\n",
    "        for j in range(1, dim):\n",
    "            if j < i+1:\n",
    "                v.append(0)\n",
    "            elif j == i+1:\n",
    "                v.append(a[i + 1, i] - s)\n",
    "            else:\n",
    "                v.append(a[j, i])\n",
    "        v = mu*np.matrix(v).transpose()\n",
    "        h_ = (np.eye(dim) - 2*v*v.transpose())\n",
    "        a = h_*a*h_\n",
    "        h = h_*h\n",
    "    return a, h\n",
    "\n",
    "def givens_rotation(a):\n",
    "    rows_, cols_ = np.shape(a)\n",
    "    q = np.identity(rows_)\n",
    "    r = np.copy(a)\n",
    "    rows, cols = np.tril_indices(rows_, -1, cols_)\n",
    "    for (row, col) in zip(rows, cols):\n",
    "        if r[row, col] != 0:\n",
    "            r1 = np.hypot(r[col, col], r[row, col])\n",
    "            cos = r[col, col]/r1\n",
    "            sin = -r[row, col]/r1\n",
    "            g = np.identity(rows_)\n",
    "            g[[col, row], [col, row]] = cos\n",
    "            g[row, col] = sin\n",
    "            g[col, row] = -sin\n",
    "            r = np.dot(g, r)\n",
    "            q = np.dot(q, g.T)\n",
    "    return q, r\n",
    "\n",
    "def qr_method(a, max_iter):\n",
    "    #1\n",
    "    a, h = hes_transform(a)\n",
    "\n",
    "    for i in range(1, max_iter):\n",
    "        #2\n",
    "        q, r = givens_rotation(a)\n",
    "        a = np.dot(r, q)\n",
    "\n",
    "    return a"
   ]
  },
  {
   "cell_type": "code",
   "execution_count": 2,
   "outputs": [
    {
     "name": "stdout",
     "output_type": "stream",
     "text": [
      "Altered Alpha:\n",
      "[[  79.18316774    0.            0.            0.        ]\n",
      " [   0.          128.59953563    0.            0.        ]\n",
      " [   0.            0.            0.         -385.4344516 ]\n",
      " [   0.            0.           61.22581442    0.        ]]\n"
     ]
    }
   ],
   "source": [
    "n = np.random.randint(3, 5)\n",
    "lambdas = np.random.rand(n)*n*100\n",
    "if lambdas[n-1]*lambdas[n-2] > 0:\n",
    "    lambdas[n-1] *= -1\n",
    "Alpha = np.diag(lambdas)\n",
    "Alpha[[n-1, n-2]] = Alpha[[n-2, n-1]]\n",
    "print(\"Altered Alpha:\")\n",
    "print(Alpha)\n",
    "C = np.matrix(np.random.randn(n, n))*n\n",
    "A = np.linalg.inv(C)*Alpha*C"
   ],
   "metadata": {
    "collapsed": false
   }
  },
  {
   "cell_type": "code",
   "execution_count": 5,
   "outputs": [
    {
     "name": "stdout",
     "output_type": "stream",
     "text": [
      "Result matrix:\n",
      "[[ 2.08605399e+01 -2.98312212e+03 -2.93144677e+03 -3.60006655e+02]\n",
      " [ 8.05655935e+00 -2.08605242e+01 -1.59633107e+02  6.49435587e+01]\n",
      " [-2.25044844e-22 -1.54821817e-05  1.28599520e+02 -7.28409571e+01]\n",
      " [ 2.25634340e-43 -2.89990462e-41  7.06426690e-20  7.91831677e+01]] \n",
      "\n"
     ]
    }
   ],
   "source": [
    "res = qr_method(A, 100)\n",
    "print(\"Result matrix:\")\n",
    "print(res, \"\\n\")"
   ],
   "metadata": {
    "collapsed": false
   }
  },
  {
   "cell_type": "code",
   "execution_count": 6,
   "outputs": [
    {
     "name": "stdout",
     "output_type": "stream",
     "text": [
      "Cell iterations:\n",
      "[[ -984.13584225 -2611.23514999]\n",
      " [  379.94353368   984.13585799]]\n"
     ]
    }
   ],
   "source": [
    "cell = res[0:-2, 0:-2]\n",
    "print(\"Cell iterations:\")\n",
    "print(qr_method(cell, 1000))"
   ],
   "metadata": {
    "collapsed": false
   }
  }
 ],
 "metadata": {
  "kernelspec": {
   "display_name": "Python 3",
   "language": "python",
   "name": "python3"
  },
  "language_info": {
   "codemirror_mode": {
    "name": "ipython",
    "version": 2
   },
   "file_extension": ".py",
   "mimetype": "text/x-python",
   "name": "python",
   "nbconvert_exporter": "python",
   "pygments_lexer": "ipython2",
   "version": "2.7.6"
  }
 },
 "nbformat": 4,
 "nbformat_minor": 0
}
