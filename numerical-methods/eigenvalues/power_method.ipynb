{
 "cells": [
  {
   "cell_type": "code",
   "execution_count": 2,
   "outputs": [],
   "source": [
    "import numpy as np\n",
    "\n",
    "def power_method(matrix_a, max_iter, tolerance):\n",
    "    dim = matrix_a.shape[0]\n",
    "    y = [None]*2\n",
    "    z = [None]*2\n",
    "    lam = [None]*2\n",
    "\n",
    "    y[0] = np.matrix(np.random.rand(dim, 1))\n",
    "    z[0] = y[0] / np.linalg.norm(y[0])\n",
    "    lam[0] = np.matrix(np.random.rand(dim, 1))\n",
    "\n",
    "    for i in range(1, max_iter):\n",
    "        y[1] = matrix_a*z[0]\n",
    "        z[1] = y[1] / np.linalg.norm(y[1])\n",
    "        lam[1] = np.divide(y[1], z[0])\n",
    "        if np.linalg.norm(lam[1] - lam[0]) < tolerance*max(np.linalg.norm(lam[1]), np.linalg.norm(lam[0])):\n",
    "            print(f\"PM ended on {i} iteration\", \"\\n\")\n",
    "            break\n",
    "        else:\n",
    "            y[0] = y[1]\n",
    "            z[0] = z[1]\n",
    "            lam[0] = lam[1]\n",
    "\n",
    "    return np.mean(lam[1]), z[1]"
   ],
   "metadata": {
    "collapsed": false
   }
  },
  {
   "cell_type": "code",
   "execution_count": 4,
   "outputs": [
    {
     "name": "stdout",
     "output_type": "stream",
     "text": [
      "PM ended on 50 iteration \n",
      "\n",
      "A*x1 - x1*lambda1: \n",
      "[[ 7.87814258e-13]\n",
      " [-1.86073379e-13]\n",
      " [-1.02073905e-12]]\n",
      "\n",
      " Alpha.max() - lambda1: \n",
      "-1.3495871087343403e-12\n"
     ]
    }
   ],
   "source": [
    "n = np.random.randint(3, 5)\n",
    "Alpha = np.diag(np.random.rand(n))*n\n",
    "C = np.matrix(np.random.randn(n, n))*n\n",
    "A = np.linalg.inv(C)*Alpha*C\n",
    "\n",
    "lambda1, x1 = power_method(A, 10000, 0.1**12)\n",
    "print(\"A*x1 - x1*lambda1: \")\n",
    "print(A*x1 - x1*lambda1)\n",
    "\n",
    "print(\"\\n\", \"Alpha.max() - lambda1: \")\n",
    "print(Alpha.max() - lambda1)"
   ],
   "metadata": {
    "collapsed": false
   }
  }
 ],
 "metadata": {
  "kernelspec": {
   "display_name": "Python 3",
   "language": "python",
   "name": "python3"
  },
  "language_info": {
   "codemirror_mode": {
    "name": "ipython",
    "version": 2
   },
   "file_extension": ".py",
   "mimetype": "text/x-python",
   "name": "python",
   "nbconvert_exporter": "python",
   "pygments_lexer": "ipython2",
   "version": "2.7.6"
  }
 },
 "nbformat": 4,
 "nbformat_minor": 0
}
