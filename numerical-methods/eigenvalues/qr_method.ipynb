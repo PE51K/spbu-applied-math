{
 "cells": [
  {
   "cell_type": "code",
   "execution_count": 7,
   "outputs": [],
   "source": [
    "import numpy as np\n",
    "\n",
    "def hes_transform(a):\n",
    "    dim = a.shape[0]\n",
    "    h = np.eye(dim)\n",
    "    for i in range(0, dim-2):\n",
    "        s = np.sign(a[i + 1, i]) * np.linalg.norm(a[i + 1:dim, i])\n",
    "        mu = 1/np.sqrt(2 * s * (s - a[i + 1, i]))\n",
    "        v = [0]\n",
    "        for j in range(1, dim):\n",
    "            if j < i+1:\n",
    "                v.append(0)\n",
    "            elif j == i+1:\n",
    "                v.append(a[i + 1, i] - s)\n",
    "            else:\n",
    "                v.append(a[j, i])\n",
    "        v = mu*np.matrix(v).transpose()\n",
    "        h_ = (np.eye(dim) - 2*v*v.transpose())\n",
    "        a = h_*a*h_\n",
    "        h = h_*h\n",
    "    return a, h\n",
    "\n",
    "def givens_rotation(a):\n",
    "    rows_, cols_ = np.shape(a)\n",
    "    q = np.identity(rows_)\n",
    "    r = np.copy(a)\n",
    "    rows, cols = np.tril_indices(rows_, -1, cols_)\n",
    "    for (row, col) in zip(rows, cols):\n",
    "        if r[row, col] != 0:\n",
    "            r1 = np.hypot(r[col, col], r[row, col])\n",
    "            cos = r[col, col]/r1\n",
    "            sin = -r[row, col]/r1\n",
    "            g = np.identity(rows_)\n",
    "            g[[col, row], [col, row]] = cos\n",
    "            g[row, col] = sin\n",
    "            g[col, row] = -sin\n",
    "            r = np.dot(g, r)\n",
    "            q = np.dot(q, g.T)\n",
    "    return q, r\n",
    "\n",
    "def qr_method(a, max_iter, diag_tolerance):\n",
    "    #1\n",
    "    dim = a.shape[0]\n",
    "    a, h = hes_transform(a)\n",
    "    lam = []\n",
    "\n",
    "    for i in range(1, max_iter):\n",
    "        #2\n",
    "        q, r = givens_rotation(a - np.dot(np.eye(dim), a[-1, -1]))\n",
    "        a = np.dot(r, q) + np.dot(np.eye(dim), a[-1, -1])\n",
    "\n",
    "        #3\n",
    "        if np.linalg.norm(a[-1, -2]) < diag_tolerance:\n",
    "            lam.append(a[-1, -1])\n",
    "            a = a[:-1, :-1]\n",
    "            dim -= 1\n",
    "            if dim == 1:\n",
    "                lam.append(a[-1, -1])\n",
    "                break\n",
    "\n",
    "    return lam"
   ],
   "metadata": {
    "collapsed": false
   }
  },
  {
   "cell_type": "code",
   "execution_count": 8,
   "outputs": [
    {
     "name": "stdout",
     "output_type": "stream",
     "text": [
      "np.sort(lambdas) - np.sort(qr_method): \n",
      "[-1.42108547e-14 -2.13162821e-14  0.00000000e+00  1.13686838e-13]\n"
     ]
    }
   ],
   "source": [
    "n = np.random.randint(3, 5)\n",
    "lambdas = np.random.rand(n)*n*100\n",
    "Alpha = np.diag(lambdas)\n",
    "C = np.matrix(np.random.randn(n, n))*n\n",
    "A = np.linalg.inv(C)*Alpha*C\n",
    "\n",
    "print(\"np.sort(lambdas) - np.sort(qr_method): \")\n",
    "print(np.sort(lambdas) - np.sort(qr_method(A, 100, 0.1**8)))"
   ],
   "metadata": {
    "collapsed": false
   }
  }
 ],
 "metadata": {
  "kernelspec": {
   "display_name": "Python 3",
   "language": "python",
   "name": "python3"
  },
  "language_info": {
   "codemirror_mode": {
    "name": "ipython",
    "version": 2
   },
   "file_extension": ".py",
   "mimetype": "text/x-python",
   "name": "python",
   "nbconvert_exporter": "python",
   "pygments_lexer": "ipython2",
   "version": "2.7.6"
  }
 },
 "nbformat": 4,
 "nbformat_minor": 0
}
