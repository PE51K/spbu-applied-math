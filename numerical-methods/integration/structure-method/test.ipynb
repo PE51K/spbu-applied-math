{
 "cells": [
  {
   "cell_type": "code",
   "id": "initial_id",
   "metadata": {
    "collapsed": true,
    "ExecuteTime": {
     "end_time": "2024-05-03T19:49:56.324615Z",
     "start_time": "2024-05-03T19:49:56.162850Z"
    }
   },
   "source": "import numpy as np",
   "outputs": [],
   "execution_count": 1
  },
  {
   "metadata": {
    "ExecuteTime": {
     "end_time": "2024-05-03T19:49:56.531016Z",
     "start_time": "2024-05-03T19:49:56.527657Z"
    }
   },
   "cell_type": "code",
   "source": [
    "def vector_add(a, b):\n",
    "    return a + b\n",
    "\n",
    "def vector_sub(a, b):\n",
    "    return a - b\n",
    "\n",
    "def scalar_mult(scalar, vector):\n",
    "    return scalar * vector"
   ],
   "id": "e6b1751ea50e8553",
   "outputs": [],
   "execution_count": 2
  },
  {
   "metadata": {
    "ExecuteTime": {
     "end_time": "2024-05-03T19:50:09.311373Z",
     "start_time": "2024-05-03T19:50:09.307051Z"
    }
   },
   "cell_type": "code",
   "source": [
    "def infnorm(a):\n",
    "    return np.max(np.abs(a))"
   ],
   "id": "47e5d859fdb80dcb",
   "outputs": [],
   "execution_count": 3
  },
  {
   "metadata": {
    "ExecuteTime": {
     "end_time": "2024-05-03T19:50:18.345317Z",
     "start_time": "2024-05-03T19:50:18.330493Z"
    }
   },
   "cell_type": "code",
   "source": [
    "mu = 0.012277471  # Пример значения, должны быть определены в соответствии с задачей\n",
    "mus = 1 - mu\n",
    "\n",
    "def F(x, y1, y2, y2s):\n",
    "    d1 = ((y1 + mu)**2 + y2**2)**1.5\n",
    "    d2 = ((y1 - mus)**2 + y2**2)**1.5\n",
    "    return y1 + 2 * y2s - mus * (y1 + mu) / d1 - mu * (y1 - mus) / d2\n",
    "\n",
    "def G(x, y1, y2, y1s):\n",
    "    d1 = ((y1 + mu)**2 + y2**2)**1.5\n",
    "    d2 = ((y1 - mus)**2 + y2**2)**1.5\n",
    "    return y2 - 2 * y1s - mus * y2 / d1 - mu * y2 / d2"
   ],
   "id": "56122c8b2f1b7434",
   "outputs": [],
   "execution_count": 4
  },
  {
   "metadata": {
    "ExecuteTime": {
     "end_time": "2024-05-03T19:51:33.975351Z",
     "start_time": "2024-05-03T19:51:33.966337Z"
    }
   },
   "cell_type": "code",
   "source": [
    "def olem42_step(f, g, x0, y0, h, tol, x_fin, A11, A12, A21, A22, B12, B21, C1, C2, D1, Q1, Di1, Qi1, D2, Q2, Di2, Qi2):\n",
    "    K1 = np.zeros(4)\n",
    "    K2 = np.zeros(4)\n",
    "    K1[0] = f(x0, y0[0], y0[2], y0[3])\n",
    "    K2[0] = g(x0, y0[0], y0[2], y0[1])\n",
    "    \n",
    "    for i in range(1, 3):\n",
    "        s2x_k1 = A11[i, :i] @ K1[:i]\n",
    "        s2y_k1 = A12[i, :i] @ K2[:i]\n",
    "        s2x_k2 = A21[i, :i] @ K1[:i]\n",
    "        s2y_k2 = A22[i, :i] @ K2[:i]\n",
    "        s2xs = B21[i, :i] @ K1[:i]\n",
    "        s2ys = B12[i, :i] @ K2[:i]\n",
    "        \n",
    "        K1[i] = f(x0 + C1[i] * h, y0[0] + C1[i] * h * y0[1] + h * h * s2x_k1,\n",
    "                  y0[2] + C1[i] * h * y0[3] + h * h * s2y_k1, y0[3] + h * s2ys)\n",
    "        K2[i] = g(x0 + C2[i] * h, y0[0] + C2[i] * h * y0[1] + h * h * s2x_k2,\n",
    "                  y0[2] + C2[i] * h * y0[3] + h * h * s2y_k2, y0[1] + h * s2xs)\n",
    "    \n",
    "    Y = y0.copy()\n",
    "    Y[0] += h * y0[1]\n",
    "    Y[2] += h * y0[3]\n",
    "    Yi = Y.copy()\n",
    "    \n",
    "    Y[:4] += h * h * D1 @ K1 + h * Q1 @ K1\n",
    "    Yi[:4] += h * h * Di1 @ K1 + h * Qi1 @ K1\n",
    "    \n",
    "    te = infnorm(Yi - Y)\n",
    "    if te <= tol:\n",
    "        y0 = Y\n",
    "        x0 += h\n",
    "        step_made = True\n",
    "    else:\n",
    "        step_made = False\n",
    "    \n",
    "    h = min(0.9 * h * (tol / te)**(1/3), x_fin - x0)\n",
    "    return x0, y0, h, step_made"
   ],
   "id": "c20e962cfeaed57b",
   "outputs": [],
   "execution_count": 5
  },
  {
   "metadata": {
    "ExecuteTime": {
     "end_time": "2024-05-03T19:53:42.961399Z",
     "start_time": "2024-05-03T19:53:42.941299Z"
    }
   },
   "cell_type": "code",
   "source": [
    "import numpy as np\n",
    "\n",
    "# Параметры модели\n",
    "mu = 0.012277471\n",
    "mus = 1 - mu\n",
    "\n",
    "# Определение функций F и G\n",
    "def F(x, y1, y2, y2s):\n",
    "    d1 = ((y1 + mu)**2 + y2**2)**1.5\n",
    "    d2 = ((y1 - mus)**2 + y2**2)**1.5\n",
    "    return y1 + 2 * y2s - mus * (y1 + mu) / d1 - mu * (y1 - mus) / d2\n",
    "\n",
    "def G(x, y1, y2, y1s):\n",
    "    d1 = ((y1 + mu)**2 + y2**2)**1.5\n",
    "    d2 = ((y1 - mus)**2 + y2**2)**1.5\n",
    "    return y2 - 2 * y1s - mus * y2 / d1 - mu * y2 / d2\n",
    "\n",
    "# Бесконечная норма\n",
    "def infnorm(a):\n",
    "    return np.max(np.abs(a))\n",
    "\n",
    "# Инициализация матриц и векторов\n",
    "C1 = np.array([0, 1.0 / 3, 5.0 / 6, 1])  # Последнее значение добавлено для комплектности\n",
    "C2 = np.array([1.0 / 6, 2.0 / 3, 1, 0])  # Последнее значение добавлено для комплектности\n",
    "\n",
    "D1 = np.array([1.0 / 10, 1.0 / 3, 1.0 / 15, 0])  # Добавлены нули для размерности\n",
    "Q1 = np.array([1.0 / 10, 1.0 / 2, 2.0 / 5, 0])   # Добавлены нули для размерности\n",
    "Di1 = np.array([2.0 / 5, -1.0 / 6, 4.0 / 15, 0])  # Добавлены нули для размерности\n",
    "Qi1 = np.array([2.0 / 5, 0, 3.0 / 5, 0])          # Добавлены нули для размерности\n",
    "\n",
    "D2 = np.array([1.0 / 3, 1.0 / 6, 0, 0])           # Добавлены нули для размерности\n",
    "Q2 = np.array([2.0 / 5, 1.0 / 2, 1.0 / 10, 0])    # Добавлены нули для размерности\n",
    "Di2 = np.array([1.0 / 4, 1.0 / 4, 0, 0])          # Добавлены нули для размерности\n",
    "Qi2 = np.array([3.0 / 5, 0, 2.0 / 5, 0])          # Добавлены нули для размерности\n",
    "\n",
    "# Начальные условия\n",
    "y0 = np.array([0.994, 0, 0, -2.0015851063790834])  # Значения из вашего кода C++\n",
    "t0 = 0\n",
    "tfin = 17.065216556015796\n",
    "tol = 1e-5  # Предположим, что это допустимая погрешность\n",
    "\n",
    "# Предположим начальный шаг\n",
    "h = 0.01  # Начальный шаг\n",
    "\n",
    "# Матрицы A и B\n",
    "# Для упрощения примера я укажу только нулевые или очень маленькие матрицы\n",
    "# Реальные матрицы должны быть определены согласно вашим требованиям\n",
    "A11 = np.zeros((4, 4))\n",
    "A12 = np.zeros((4, 4))\n",
    "A21 = np.zeros((4, 4))\n",
    "A22 = np.zeros((4, 4))\n",
    "B12 = np.zeros((4, 4))\n",
    "B21 = np.zeros((4, 4))\n",
    "\n",
    "# Запуск интеграции\n",
    "step_made = False\n",
    "while t0 < tfin and not step_made:\n",
    "    t0, y0, h, step_made = olem42_step(F, G, t0, y0, h, tol, tfin, A11, A12, A21, A22, B12, B21, C1, C2, D1, Q1, Di1, Qi1, D2, Q2, Di2, Qi2)\n",
    "    print(f\"Time: {t0}, State: {y0}, Step size: {h}\")"
   ],
   "id": "937df2c81dd55209",
   "outputs": [
    {
     "name": "stdout",
     "output_type": "stream",
     "text": [
      "Time: 0, State: [ 0.994       0.          0.         -2.00158511], Step size: 0.00025023211555009214\n",
      "Time: 0, State: [ 0.994       0.          0.         -2.00158511], Step size: 0.00012290703583042492\n",
      "Time: 0.00012290703583042492, State: [ 0.95524453 -0.03875547 -0.03900148 -2.04034058], Step size: 0.00012264493670422554\n"
     ]
    }
   ],
   "execution_count": 6
  },
  {
   "metadata": {
    "ExecuteTime": {
     "end_time": "2024-05-03T19:59:00.304640Z",
     "start_time": "2024-05-03T19:59:00.263002Z"
    }
   },
   "cell_type": "code",
   "source": [
    "import numpy as np\n",
    "\n",
    "mu = 0.012277471\n",
    "mus = 1 - mu\n",
    "\n",
    "def F(x, y1, y2, y2s):\n",
    "    d1 = ((y1 + mu)**2 + y2**2)**1.5\n",
    "    d2 = ((y1 - mus)**2 + y2**2)**1.5\n",
    "    return y1 + 2 * y2s - mus * (y1 + mu) / d1 - mu * (y1 - mus) / d2\n",
    "\n",
    "def G(x, y1, y2, y1s):\n",
    "    d1 = ((y1 + mu)**2 + y2**2)**1.5\n",
    "    d2 = ((y1 - mus)**2 + y2**2)**1.5\n",
    "    return y2 - 2 * y1s - mus * y2 / d1 - mu * y2 / d2\n",
    "\n",
    "def infnorm(a):\n",
    "    return np.max(np.abs(a))\n",
    "\n",
    "# Определение всех матриц и векторов\n",
    "C1 = np.array([0, 1.0 / 3, 5.0 / 6])\n",
    "C2 = np.array([1.0 / 6, 2.0 / 3, 1])\n",
    "\n",
    "D1 = np.array([1.0 / 10, 1.0 / 3, 1.0 / 15, 0])  # Добавим недостающий элемент\n",
    "Q1 = np.array([1.0 / 10, 1.0 / 2, 2.0 / 5, 0])   # Добавим недостающий элемент\n",
    "Di1 = np.array([2.0 / 5, -1.0 / 6, 4.0 / 15, 0]) # Добавим недостающий элемент\n",
    "Qi1 = np.array([2.0 / 5, 0, 3.0 / 5, 0])         # Добавим недостающий элемент\n",
    "\n",
    "D2 = np.array([1.0 / 3, 1.0 / 6, 0, 0])          # Уже имеет нужный размер\n",
    "Q2 = np.array([2.0 / 5, 1.0 / 2, 1.0 / 10, 0])   # Добавим недостающий элемент\n",
    "Di2 = np.array([1.0 / 4, 1.0 / 4, 0, 0])         # Уже имеет нужный размер\n",
    "Qi2 = np.array([3.0 / 5, 0, 2.0 / 5, 0])         # Уже имеет нужный размер\n",
    "\n",
    "# Исправленная инициализация матриц с одинаковым количеством элементов в каждой строке\n",
    "A11 = np.array([\n",
    "    [0, 0, 0],\n",
    "    [1.0 / 18, 0, 0],\n",
    "    [5.0 / 144, 5.0 / 16, 0]\n",
    "])\n",
    "\n",
    "A12 = np.array([\n",
    "    [0, 0, 0],\n",
    "    [1.0 / 18, 0, 0],\n",
    "    [5.0 / 18, 5.0 / 72, 0]\n",
    "])\n",
    "\n",
    "A21 = np.array([\n",
    "    [1.0 / 36, 0, 0],\n",
    "    [5.0 / 72, 1.0 / 8, 0],\n",
    "    [-1.0 / 24, 5.0 / 8, 0]\n",
    "])\n",
    "\n",
    "A22 = np.array([\n",
    "    [0, 0, 0],\n",
    "    [1.0 / 4, 0, 0],\n",
    "    [5.0 / 36, 5.0 / 18, 0]\n",
    "])\n",
    "\n",
    "B12 = np.array([\n",
    "    [0, 0, 0],\n",
    "    [1.0 / 3, 0, 0],\n",
    "    [5.0 / 12, 5.0 / 12, 0]\n",
    "])\n",
    "\n",
    "B21 = np.array([\n",
    "    [1.0 / 6, 0, 0],\n",
    "    [-1.0 / 12, 3.0 / 4, 0],\n",
    "    [3.0 / 4, -5.0 / 12, 2.0 / 3]\n",
    "])\n",
    "\n",
    "y0 = np.array([0.994, 0, 0, -2.0015851063790834])  # Значения из вашего кода C++\n",
    "t0 = 0\n",
    "tfin = 17.065216556015796\n",
    "tol = 1e-5  # Предположим, что это допустимая погрешность\n",
    "\n",
    "# Предположим начальный шаг\n",
    "h = 0.01  # Начальный шаг\n",
    "\n",
    "# Функция для выполнения одного шага\n",
    "def olem42_step(f, g, x0, y0, h, tol, x_fin, A11, A12, A21, A22, B12, B21, C1, C2, D1, Q1, Di1, Qi1, D2, Q2, Di2, Qi2):\n",
    "    K1 = np.zeros(4)\n",
    "    K2 = np.zeros(4)\n",
    "    K1[0] = f(x0, y0[0], y0[2], y0[3])\n",
    "    K2[0] = g(x0, y0[0], y0[2], y0[1])\n",
    "    \n",
    "    for i in range(1, 3):\n",
    "        s2x_k1 = np.dot(A11[i, :i], K1[:i])\n",
    "        s2y_k1 = np.dot(A12[i, :i], K2[:i])\n",
    "        s2x_k2 = np.dot(A21[i, :i], K1[:i])\n",
    "        s2y_k2 = np.dot(A22[i, :i], K2[:i])\n",
    "        s2xs = np.dot(B21[i, :i], K1[:i])\n",
    "        s2ys = np.dot(B12[i, :i], K2[:i])\n",
    "        \n",
    "        K1[i] = f(x0 + C1[i] * h, y0[0] + C1[i] * h * y0[1] + h * h * s2x_k1,\n",
    "                  y0[2] + C1[i] * h * y0[3] + h * h * s2y_k1, y0[3] + h * s2ys)\n",
    "        K2[i] = g(x0 + C2[i] * h, y0[0] + C2[i] * h * y0[1] + h * h * s2x_k2,\n",
    "                  y0[2] + C2[i] * h * y0[3] + h * h * s2y_k2, y0[1] + h * s2xs)\n",
    "    \n",
    "    Y = y0.copy()\n",
    "    Y[0] += h * y0[1]\n",
    "    Y[2] += h * y0[3]\n",
    "    Yi = Y.copy()\n",
    "    \n",
    "    Y[:4] += h * h * D1 @ K1 + h * Q1 @ K1\n",
    "    Yi[:4] += h * h * Di1 @ K1 + h * Qi1 @ K1\n",
    "    \n",
    "    te = infnorm(Yi - Y)\n",
    "    if te <= tol:\n",
    "        y0 = Y\n",
    "        x0 += h\n",
    "        step_made = True\n",
    "    else:\n",
    "        step_made = False\n",
    "    \n",
    "    h = min(0.9 * h * (tol / te)**(1/3), x_fin - x0)\n",
    "    return x0, y0, h, step_made\n",
    "\n",
    "# Запуск интеграции\n",
    "while t0 < tfin:\n",
    "    t0, y0, h, step_made = olem42_step(F, G, t0, y0, h, tol, tfin, A11, A12, A21, A22, B12, B21, C1, C2, D1, Q1, Di1, Qi1, D2, Q2, Di2, Qi2)\n",
    "    print(f\"Time: {t0}, State: {y0}, Step size: {h}\")\n",
    "    if not step_made:\n",
    "        break"
   ],
   "id": "d2b91e9284c635d9",
   "outputs": [
    {
     "name": "stdout",
     "output_type": "stream",
     "text": [
      "Time: 0, State: [ 0.994       0.          0.         -2.00158511], Step size: 0.000259448970929731\n"
     ]
    }
   ],
   "execution_count": 9
  }
 ],
 "metadata": {
  "kernelspec": {
   "display_name": "Python 3",
   "language": "python",
   "name": "python3"
  },
  "language_info": {
   "codemirror_mode": {
    "name": "ipython",
    "version": 2
   },
   "file_extension": ".py",
   "mimetype": "text/x-python",
   "name": "python",
   "nbconvert_exporter": "python",
   "pygments_lexer": "ipython2",
   "version": "2.7.6"
  }
 },
 "nbformat": 4,
 "nbformat_minor": 5
}
