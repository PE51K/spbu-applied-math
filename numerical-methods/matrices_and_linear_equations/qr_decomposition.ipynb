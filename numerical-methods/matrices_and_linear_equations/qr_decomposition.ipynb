{
 "cells": [
  {
   "cell_type": "code",
   "execution_count": 1,
   "id": "d7fb5a8d",
   "metadata": {},
   "outputs": [],
   "source": [
    "import numpy as np\n",
    "\n",
    "def GivensRotation(a):\n",
    "    Rows, Cols = np.shape(a)\n",
    "    q = np.identity(Rows)\n",
    "    r = np.copy(a)\n",
    "    rows, cols = np.tril_indices(Rows, -1, Cols)\n",
    "    for (row, col) in zip(rows, cols):\n",
    "        if r[row, col] != 0:\n",
    "            r1 = np.hypot(r[col, col], r[row, col])\n",
    "            cos = r[col, col] / r1\n",
    "            sin = -r[row, col] / r1\n",
    "            G = np.identity(Rows)\n",
    "            G[[col, row], [col, row]] = cos\n",
    "            G[row, col] = sin\n",
    "            G[col, row] = -sin\n",
    "            r = np.dot(G, r)\n",
    "            q = np.dot(q, G.T)\n",
    "    return q, r\n",
    "\n",
    "def reverceSub(q, r, Y):\n",
    "    dim = r.shape[0]\n",
    "    X = np.matrix(np.zeros(shape=(dim, 1)))\n",
    "    Y = np.dot(q.transpose(), Y)\n",
    "    for i in range(dim):\n",
    "        summ = 0\n",
    "        for j in range(i):\n",
    "            summ += r[dim - 1 - i, dim - 1 - j] * X[dim - 1 - j, 0]\n",
    "        X[dim - 1 - i, 0] = (Y[dim - 1 - i, 0] - summ) / r[dim - 1 - i, dim - 1 - i]\n",
    "    return X"
   ]
  },
  {
   "cell_type": "code",
   "execution_count": 2,
   "id": "ca919ead",
   "metadata": {},
   "outputs": [
    {
     "name": "stdout",
     "output_type": "stream",
     "text": [
      "matrix A: \n",
      "[[ 131.99749532 -241.65926189 -135.68941223]\n",
      " [ 537.53351833  360.75391446  185.81368817]\n",
      " [ 115.79898109   34.70400728  -91.13953471]]\n",
      "\n",
      " Q: \n",
      "[[ 0.23342288 -0.96403734 -0.12706596]\n",
      " [ 0.95056819  0.25375101 -0.17897076]\n",
      " [ 0.20477761 -0.07900899  0.97561453]]\n",
      "\n",
      " Q*Q.transpose(): \n",
      "[[ 1.00000000e+00 -1.16386640e-16 -4.20324142e-18]\n",
      " [-1.16386640e-16  1.00000000e+00 -3.72928182e-17]\n",
      " [-4.20324142e-18 -3.72928182e-17  1.00000000e+00]]\n",
      "\n",
      " R: \n",
      "[[ 5.65486539e+02  2.93619000e+02  1.26292233e+02]\n",
      " [ 5.70682348e-15  3.21768296e+02  1.85160916e+02]\n",
      " [-6.24627378e-15  1.20791837e-15 -1.04930765e+02]]\n",
      "\n",
      " A - Q*R: \n",
      "[[2.84217094e-14 5.68434189e-14 5.68434189e-14]\n",
      " [1.13686838e-13 0.00000000e+00 2.84217094e-14]\n",
      " [1.42108547e-14 2.13162821e-14 0.00000000e+00]]\n",
      "\n",
      " A*x - b: \n",
      "[[-5.68434189e-14]\n",
      " [ 0.00000000e+00]\n",
      " [-2.84217094e-14]]\n"
     ]
    }
   ],
   "source": [
    "#create random n*n matrix A\n",
    "n = np.random.randint(3, 6)\n",
    "A = np.matrix(np.random.randn(n, n))*n*100\n",
    "print(\"matrix A: \")\n",
    "print(A)\n",
    "\n",
    "#test 0\n",
    "Q, R = GivensRotation(A)\n",
    "print(\"\\n\", \"Q: \")\n",
    "print(Q)\n",
    "print(\"\\n\", \"Q*Q.transpose(): \")\n",
    "print(np.dot(Q, Q.transpose()))\n",
    "print(\"\\n\", \"R: \")\n",
    "print(R)\n",
    "print(\"\\n\", \"A - Q*R: \")\n",
    "print(A - np.dot(Q,R))\n",
    "\n",
    "#test 1 (solving)\n",
    "b = np.matrix(np.random.randn(n, 1))*n*100\n",
    "x = reverceSub(Q, R, b)\n",
    "print(\"\\n\", \"A*x - b: \")\n",
    "print(np.dot(A,x) - b)"
   ]
  },
  {
   "cell_type": "code",
   "execution_count": null,
   "outputs": [],
   "source": [],
   "metadata": {
    "collapsed": false
   }
  }
 ],
 "metadata": {
  "kernelspec": {
   "display_name": "Python 3 (ipykernel)",
   "language": "python",
   "name": "python3"
  },
  "language_info": {
   "codemirror_mode": {
    "name": "ipython",
    "version": 3
   },
   "file_extension": ".py",
   "mimetype": "text/x-python",
   "name": "python",
   "nbconvert_exporter": "python",
   "pygments_lexer": "ipython3",
   "version": "3.10.7"
  }
 },
 "nbformat": 4,
 "nbformat_minor": 5
}
