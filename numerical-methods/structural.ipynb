{
 "cells": [
  {
   "metadata": {
    "ExecuteTime": {
     "end_time": "2024-05-11T11:38:00.109440Z",
     "start_time": "2024-05-11T11:38:00.078016Z"
    }
   },
   "cell_type": "code",
   "source": [
    "import numpy as np\n",
    "from typing import List, Tuple, Dict, Set\n",
    "\n",
    "#-----=================================================-----\n",
    "\n",
    "# Исходная матрица A\n",
    "A: np.ndarray = np.array([\n",
    "    [0, 0, 0, 0, 0, 1, 0, 0, 0, 0],\n",
    "    [0, 0, 0, 0, 0, 0, 1, 0, 0, 0],\n",
    "    [0, 0, 0, 0, 0, 0, 0, 1, 0, 0],\n",
    "    [0, 0, 0, 0, 0, 0, 0, 0, 1, 0],\n",
    "    [0, 0, 0, 0, 0, 0, 0, 0, 0, 1],\n",
    "    [1, 1, 1, 1, 1, 1, 1, 1, 1, 1],\n",
    "    [1, 1, 1, 1, 1, 1, 0, 0, 1, 1],\n",
    "    [1, 1, 1, 1, 1, 1, 1, 0, 1, 1],\n",
    "    [1, 1, 1, 1, 1, 1, 1, 1, 0, 0],\n",
    "    [1, 1, 1, 1, 1, 1, 1, 1, 1, 0],\n",
    "])\n",
    "\n",
    "#-----=================================================----- \n",
    "# Шаг 0\n",
    "\n",
    "# Множества E и H\n",
    "E: List[List[int]] = [[] for _ in range(A.shape[0])]\n",
    "H: List[List[int]] = [[] for _ in range(A.shape[1])]\n",
    "\n",
    "for i in range(A.shape[0]):\n",
    "    for j in range(A.shape[1]):\n",
    "        if A[i, j] == 0:\n",
    "            E[i].append(j + 1)\n",
    "            H[j].append(i + 1)\n",
    "\n",
    "# Множество Omega^{(1,0)}\n",
    "Omega: Set[int] = set(np.where(A.diagonal() == 0)[0] + 1)\n",
    "\n",
    "print(\"Множества E:\", E)\n",
    "print(\"Множества H:\", H)\n",
    "print(\"Множество Omega^{(1,0)}:\", Omega, \"\\n\")"
   ],
   "id": "ff71e51db145df7a",
   "outputs": [
    {
     "name": "stdout",
     "output_type": "stream",
     "text": [
      "Множества E: [[1, 2, 3, 4, 5, 7, 8, 9, 10], [1, 2, 3, 4, 5, 6, 8, 9, 10], [1, 2, 3, 4, 5, 6, 7, 9, 10], [1, 2, 3, 4, 5, 6, 7, 8, 10], [1, 2, 3, 4, 5, 6, 7, 8, 9], [], [7, 8], [8], [9, 10], [10]]\n",
      "Множества H: [[1, 2, 3, 4, 5], [1, 2, 3, 4, 5], [1, 2, 3, 4, 5], [1, 2, 3, 4, 5], [1, 2, 3, 4, 5], [2, 3, 4, 5], [1, 3, 4, 5, 7], [1, 2, 4, 5, 7, 8], [1, 2, 3, 5, 9], [1, 2, 3, 4, 9, 10]]\n",
      "Множество Omega^{(1,0)}: {1, 2, 3, 4, 5, 7, 8, 9, 10} \n",
      "\n"
     ]
    }
   ],
   "execution_count": 4
  },
  {
   "metadata": {
    "ExecuteTime": {
     "end_time": "2024-05-11T11:39:50.272720Z",
     "start_time": "2024-05-11T11:39:50.249603Z"
    }
   },
   "cell_type": "code",
   "source": [
    "# Строим множества D^{(1,0)}_{(i,j)}\n",
    "D: Dict[Tuple[int, int], List[int]] = {}\n",
    "for i in Omega:\n",
    "    for j in Omega:\n",
    "        if i != j:\n",
    "            # Пересечение с учётом принадлежности к Omega\n",
    "            valid_columns = set(E[i-1]) & set(H[j-1]) & Omega\n",
    "            if valid_columns:  # Добавляем только непустые множества\n",
    "                D[(i, j)] = list(valid_columns)\n",
    "\n",
    "# Сортировка D^{(1,0)}_{(i,j)} по мощности\n",
    "sorted_D: List[Tuple[Tuple[int, int], List[int]]] = sorted(D.items(), key=lambda item: len(item[1]), reverse=True)\n",
    "\n",
    "# Множество S^{(1,0)} содержит только индексы непустых и сортированных по мощности множеств\n",
    "S: List[Tuple[int, int]] = [(i, j) for (i, j), _ in sorted_D]\n",
    "print(\"Множество S^{(1,0)}:\", S, \"\\n\")\n",
    "\n",
    "# Выбор узлового элемента с наибольшей мощностью\n",
    "beta: Tuple[int, int] = S[0] if S else None\n",
    "print(\"Узловой элемент beta^{(1,0)} с максимальной мощностью:\", beta, \"\\n\")"
   ],
   "id": "67e8a8018efc3d57",
   "outputs": [
    {
     "name": "stdout",
     "output_type": "stream",
     "text": [
      "Множество S^{(1,0)}: [(1, 8), (1, 10), (2, 10), (3, 10), (4, 8), (5, 8), (1, 2), (1, 3), (1, 4), (1, 5), (1, 7), (1, 9), (2, 1), (2, 3), (2, 4), (2, 5), (2, 8), (2, 9), (3, 1), (3, 2), (3, 4), (3, 5), (3, 7), (3, 8), (3, 9), (4, 1), (4, 2), (4, 3), (4, 5), (4, 7), (4, 10), (5, 1), (5, 2), (5, 3), (5, 4), (5, 7), (5, 9), (5, 10), (2, 7), (4, 9), (7, 8), (9, 10)] \n",
      "\n",
      "Узловой элемент beta^{(1,0)} с максимальной мощностью: (1, 8) \n",
      "\n"
     ]
    }
   ],
   "execution_count": 5
  },
  {
   "metadata": {
    "ExecuteTime": {
     "end_time": "2024-05-11T11:41:01.227017Z",
     "start_time": "2024-05-11T11:41:01.192235Z"
    }
   },
   "cell_type": "code",
   "source": [
    "#-----=================================================-----\n",
    "# Шаг 1\n",
    "\n",
    "# Строим множество Omega^{(1,1)}\n",
    "beta_1, beta_2 = beta\n",
    "Omega: Set[int] = set(Omega) & set(D[(beta_1, beta_2)]) - {beta_1, beta_2}\n",
    "Omega: Set[int] = set(sorted(Omega))\n",
    "print(\"Множество Omega^{(1,1)}:\", Omega, \"\\n\")\n",
    "\n",
    "# Строим множества D^{(1,1)}_{(i,j)}\n",
    "D: Dict[Tuple[int, int], List[int]] = {}\n",
    "for i in Omega:\n",
    "    for j in Omega:\n",
    "        if i != j:\n",
    "            intersection: List[int] = list(set(E[i-1]) & set(H[j-1]))\n",
    "            if intersection:  # Добавляем только непустые множества\n",
    "                D[(i, j)] = intersection\n",
    "\n",
    "# Сортировка D^{(1,1)}_{(i,j)} по мощности\n",
    "sorted_D: List[Tuple[Tuple[int, int], List[int]]] = sorted(D.items(), key=lambda item: len(item[1]), reverse=True)\n",
    "\n",
    "# Множество S^{(1,1)} содержит только индексы непустых и сортированных по мощности множеств\n",
    "S: List[Tuple[int, int]] = [(i, j) for (i, j), _ in sorted_D]\n",
    "print(\"Множество S^{(1,1)}:\", S, \"\\n\")\n",
    "\n",
    "# Выбор узлового элемента с наибольшей мощностью\n",
    "beta: Tuple[int, int] = S[0] if S else None\n",
    "print(\"Узловой элемент beta^{(1,1)} с максимальной мощностью:\", beta, \"\\n\")"
   ],
   "id": "83b4aafb5e6f438",
   "outputs": [
    {
     "name": "stdout",
     "output_type": "stream",
     "text": [
      "Множество Omega^{(1,1)}: {5} \n",
      "\n",
      "Множество S^{(1,1)}: [] \n",
      "\n",
      "Узловой элемент beta^{(1,1)} с максимальной мощностью: None \n",
      "\n"
     ]
    }
   ],
   "execution_count": 7
  },
  {
   "metadata": {
    "ExecuteTime": {
     "end_time": "2024-05-10T21:43:31.141673Z",
     "start_time": "2024-05-10T21:43:31.134088Z"
    }
   },
   "cell_type": "code",
   "source": [
    "# Множества E и H\n",
    "E: List[List[int]] = [[] for _ in range(A.shape[0])]\n",
    "H: List[List[int]] = [[] for _ in range(A.shape[1])]\n",
    "for i in range(A.shape[0]):\n",
    "    for j in range(A.shape[1]):\n",
    "        if A[i, j] == 0:\n",
    "            E[i].append(j + 1)\n",
    "            H[j].append(i + 1)\n",
    "\n",
    "# Инициализация Omega\n",
    "Omega: Set[int] = set(np.where(A.diagonal() == 0)[0] + 1)\n",
    "k: int = 0  # Уровень итераций\n",
    "\n",
    "while Omega:\n",
    "    print(f\"\\nМножество Omega^{(1,{k})}:\", Omega)\n",
    "\n",
    "    # Строим множества D^{(1,k)}_{(i,j)}\n",
    "    D: Dict[Tuple[int, int], List[int]] = {}\n",
    "    for i in Omega:\n",
    "        for j in Omega:\n",
    "            if i != j:\n",
    "                valid_columns = set(E[i-1]) & set(H[j-1]) & Omega\n",
    "                if valid_columns:\n",
    "                    D[(i, j)] = list(valid_columns)\n",
    "\n",
    "    # Сортировка D^{(1,k)}_{(i,j)} по мощности\n",
    "    sorted_D = sorted(D.items(), key=lambda item: len(item[1]), reverse=True)\n",
    "    S = [(i, j) for (i, j), _ in sorted_D]\n",
    "    print(f\"Множество S^{(1,{k})}:\", S)\n",
    "\n",
    "    # Выбор узлового элемента\n",
    "    if not S:\n",
    "        print(\"Нет доступных узловых элементов для продолжения.\")\n",
    "        break\n",
    "\n",
    "    beta: Tuple[int, int] = S[0]\n",
    "    print(f\"Узловой элемент beta^{(1,{k})} с максимальной мощностью:\", beta)\n",
    "\n",
    "    # Обновление Omega для следующего шага\n",
    "    beta_1, beta_2 = beta\n",
    "    Omega = Omega & set(D[beta]) - {beta_1, beta_2}\n",
    "\n",
    "    k += 1  # Увеличиваем уровень итерации"
   ],
   "id": "b9687afa8acf1c42",
   "outputs": [
    {
     "name": "stdout",
     "output_type": "stream",
     "text": [
      "\n",
      "Множество Omega^(1, {0}): {1, 2, 3, 4, 6, 7, 8, 9}\n",
      "Множество S^(1, {0}): [(1, 9), (2, 9), (3, 7), (4, 7), (1, 2), (1, 3), (1, 4), (1, 7), (1, 8), (2, 1), (2, 3), (2, 4), (2, 6), (2, 7), (2, 8), (3, 1), (3, 2), (3, 4), (3, 6), (3, 9), (4, 1), (4, 2), (4, 3), (4, 6), (4, 8), (4, 9), (1, 6), (3, 8), (6, 7), (8, 9)]\n",
      "Узловой элемент beta^(1, {0}) с максимальной мощностью: (1, 9)\n",
      "\n",
      "Множество Omega^(1, {1}): {8, 2, 3}\n",
      "Множество S^(1, {1}): [(2, 8), (2, 3), (3, 2), (3, 8)]\n",
      "Узловой элемент beta^(1, {1}) с максимальной мощностью: (2, 8)\n"
     ]
    }
   ],
   "execution_count": 66
  }
 ],
 "metadata": {
  "kernelspec": {
   "display_name": "Python 3",
   "language": "python",
   "name": "python3"
  },
  "language_info": {
   "codemirror_mode": {
    "name": "ipython",
    "version": 2
   },
   "file_extension": ".py",
   "mimetype": "text/x-python",
   "name": "python",
   "nbconvert_exporter": "python",
   "pygments_lexer": "ipython2",
   "version": "2.7.6"
  }
 },
 "nbformat": 4,
 "nbformat_minor": 5
}
