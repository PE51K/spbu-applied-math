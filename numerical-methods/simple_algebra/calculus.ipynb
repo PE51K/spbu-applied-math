{
 "cells": [
  {
   "cell_type": "code",
   "execution_count": 12,
   "id": "c5e7c4fa",
   "metadata": {},
   "outputs": [],
   "source": [
    "import pandas as pd\n",
    "import numpy as np\n",
    "import math\n",
    "\n",
    "def CalcFactorial(x):\n",
    "    if x == 0:\n",
    "        return 1\n",
    "    for i in range(1,x):\n",
    "        x *= i\n",
    "    return x\n",
    "        \n",
    "def CalcArctang(x, delta):\n",
    "    tang = 0.0\n",
    "    k = 0\n",
    "    while k == 0 or abs(((-1)**k)*((x**(2*k+1))/(2*k+1))) > delta:\n",
    "        tang += ((-1)**k)*((x**(2*k+1))/(2*k+1))\n",
    "        k += 1\n",
    "    return tang\n",
    "\n",
    "def CalcExp(x, delta):\n",
    "    exp = 1\n",
    "    k = 0\n",
    "    u = 1\n",
    "    while k == 0 or abs(u) > delta:\n",
    "        k += 1\n",
    "        u *= x/k\n",
    "        exp += u\n",
    "        \n",
    "    return exp\n",
    "\n",
    "def CalcSqrtRoot(x, delta):\n",
    "    root = 0.0\n",
    "    k = 1\n",
    "    while k == 1 or abs((1/2)*(root+(x/root)) - root)  > delta:\n",
    "        if k==1:\n",
    "            root = (1/2)*(x+(x/x))\n",
    "        else:\n",
    "            root = (1/2)*(root+(x/root))\n",
    "        k += 1\n",
    "    return root"
   ]
  },
  {
   "cell_type": "code",
   "execution_count": 15,
   "outputs": [
    {
     "name": "stdout",
     "output_type": "stream",
     "text": [
      "       x      Z(x)      z(x)  |delta(z(x))|\n",
      "0   0.10  0.157375  0.157375   2.410997e-08\n",
      "1   0.11  0.156336  0.156336   2.993797e-08\n",
      "2   0.12  0.155241  0.155241   3.772338e-08\n",
      "3   0.13  0.154096  0.154096   4.780103e-08\n",
      "4   0.14  0.152903  0.152903   6.059425e-08\n",
      "5   0.15  0.151667  0.151667   7.662036e-08\n",
      "6   0.16  0.150391  0.150391   9.649859e-08\n",
      "7   0.17  0.149079  0.149079   1.209599e-07\n",
      "8   0.18  0.147735  0.147735   1.508590e-07\n",
      "9   0.19  0.146361  0.146361   1.871874e-07\n",
      "10  0.20  0.144959  0.144959   1.988807e-08\n"
     ]
    }
   ],
   "source": [
    "a = pd.DataFrame(data={'x':np.arange(0.1, 0.21, 0.01)})\n",
    "a['Z(x)'] = list(map(lambda x: math.sqrt(math.atan(0.8*x + 0.2))/math.exp(2*x + 1), a['x']))\n",
    "a['z(x)'] = list(map(lambda x: CalcSqrtRoot(CalcArctang(0.8*x + 0.2, 10**(-6)/0.87), 10**(-6)/0.18)/CalcExp(2*x+1, 10**(-6)/0.93), a['x']))\n",
    "a['|delta(z(x))|'] = abs(a['Z(x)']-a['z(x)'])\n",
    "print(a)"
   ],
   "metadata": {
    "collapsed": false
   }
  }
 ],
 "metadata": {
  "kernelspec": {
   "display_name": "Python 3 (ipykernel)",
   "language": "python",
   "name": "python3"
  },
  "language_info": {
   "codemirror_mode": {
    "name": "ipython",
    "version": 3
   },
   "file_extension": ".py",
   "mimetype": "text/x-python",
   "name": "python",
   "nbconvert_exporter": "python",
   "pygments_lexer": "ipython3",
   "version": "3.10.6"
  }
 },
 "nbformat": 4,
 "nbformat_minor": 5
}
