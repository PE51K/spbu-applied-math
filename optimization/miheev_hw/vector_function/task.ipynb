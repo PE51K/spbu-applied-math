{
 "cells": [
  {
   "cell_type": "markdown",
   "source": [
    "## Импорт зависимостей"
   ],
   "metadata": {
    "collapsed": false
   }
  },
  {
   "cell_type": "code",
   "execution_count": 1,
   "metadata": {
    "collapsed": true,
    "ExecuteTime": {
     "end_time": "2023-11-27T07:33:25.217450419Z",
     "start_time": "2023-11-27T07:33:24.053790159Z"
    }
   },
   "outputs": [],
   "source": [
    "import numpy as np\n",
    "import pandas as pd"
   ]
  },
  {
   "cell_type": "markdown",
   "source": [
    "## Вспомогательные функции"
   ],
   "metadata": {
    "collapsed": false
   }
  },
  {
   "cell_type": "code",
   "execution_count": 2,
   "outputs": [],
   "source": [
    "def get_hex(number: float | int):\n",
    "    if type(number) == int:\n",
    "        return f'{number:x}'\n",
    "    point_position: int = str(number).find(\".\")\n",
    "    return f'{int(str(number)[0:point_position]):x}.{int(str(number)[point_position + 1:]):x}'"
   ],
   "metadata": {
    "collapsed": false,
    "ExecuteTime": {
     "end_time": "2023-11-27T07:33:43.123309096Z",
     "start_time": "2023-11-27T07:33:43.053012921Z"
    }
   }
  },
  {
   "cell_type": "markdown",
   "source": [
    "## Инициализация целевой функции"
   ],
   "metadata": {
    "collapsed": false
   }
  },
  {
   "cell_type": "code",
   "execution_count": 3,
   "outputs": [],
   "source": [
    "# Определение целевой функции\n",
    "class TargetFunction:\n",
    "    def __init__(self, name: str, middle_name: str, surname: str):\n",
    "        self.i = len(name)\n",
    "        self.f: float = len(middle_name)\n",
    "        self.o: float = len(surname)\n",
    "        self.calculations_count: int = 0\n",
    "        self.derivative_calculations_count: int = 0\n",
    "        self.second_derivative_calculations_count: int = 0\n",
    "\n",
    "    def calculate(self, x: np.array, add_calculations_count: bool = True) -> float:\n",
    "        if add_calculations_count:\n",
    "            self.calculations_count += 1\n",
    "        return self.i * x[0] ** 2 + self.o * x[1] ** 2 + self.f * x[2] ** 2 + (self.i + 10) * x[3] ** 2 + self.i * x[0] + self.o * x[1] + self.f * x[2] + 2 * x[3]\n",
    "\n",
    "    def get_calculations_count(self) -> int:\n",
    "        return self.calculations_count\n",
    "\n",
    "    def flush_calculations_count(self) -> str:\n",
    "        self.calculations_count = 0\n",
    "        return 'Calculations count flush - Success'\n",
    "\n",
    "    def calculate_partial_derivative(self, x: np.array, variable_index: int, add_calculations_count: bool = True) -> float:\n",
    "        if add_calculations_count:\n",
    "            self.derivative_calculations_count += 1\n",
    "        if variable_index == 0:\n",
    "            return 2 * self.i * x[0] + self.i\n",
    "        elif variable_index == 1:\n",
    "            return 2 * self.o * x[1] + self.o\n",
    "        elif variable_index == 2:\n",
    "            return 2 * self.f * x[2] + self.f\n",
    "        elif variable_index == 3:\n",
    "            return 2 * (self.i + 10) * x[3] + 2\n",
    "        raise ValueError('Wrong partial')\n",
    "\n",
    "    def get_derivative_calculations_count(self) -> int:\n",
    "        return self.derivative_calculations_count\n",
    "\n",
    "    def flush_derivative_calculations_count(self) -> str:\n",
    "        self.derivative_calculations_count = 0\n",
    "        return 'Derivative calculations count flush - Success'\n",
    "\n",
    "    def calculate_partial_second_derivative(self, x: np.array, variable_index: int, add_calculations_count: bool = True) -> float:\n",
    "        if add_calculations_count:\n",
    "            self.second_derivative_calculations_count += 1\n",
    "        if variable_index == 0:\n",
    "            return 2 * self.i\n",
    "        elif variable_index == 1:\n",
    "            return 2 * self.o\n",
    "        elif variable_index == 2:\n",
    "            return 2 * self.f\n",
    "        elif variable_index == 3:\n",
    "            return 2 * (self.i + 10)\n",
    "        raise ValueError('Wrong partial')\n",
    "        \n",
    "    def get_second_derivative_calculations_count(self) -> int:\n",
    "        return self.second_derivative_calculations_count\n",
    "\n",
    "    def flush_second_derivative_calculations_count(self) -> str:\n",
    "        self.second_derivative_calculations_count = 0\n",
    "        return 'Second derivative calculations count flush - Success'"
   ],
   "metadata": {
    "collapsed": false,
    "ExecuteTime": {
     "end_time": "2023-11-27T07:33:45.286390526Z",
     "start_time": "2023-11-27T07:33:45.233638048Z"
    }
   }
  },
  {
   "cell_type": "code",
   "execution_count": 4,
   "outputs": [],
   "source": [
    "# Создаем экземпляр функции\n",
    "my_func: TargetFunction = TargetFunction(name='Григорий', middle_name='Григорьевич', surname='Мацнев')"
   ],
   "metadata": {
    "collapsed": false,
    "ExecuteTime": {
     "end_time": "2023-11-27T07:33:50.535775645Z",
     "start_time": "2023-11-27T07:33:50.496856535Z"
    }
   }
  },
  {
   "cell_type": "markdown",
   "source": [
    "## Поиск экстремума методом покоординатного градиентного спуска"
   ],
   "metadata": {
    "collapsed": false
   }
  },
  {
   "cell_type": "code",
   "execution_count": 6,
   "outputs": [],
   "source": [
    "def make_newton_step(func: TargetFunction, x_0: np.array, current_variable_index: int) -> float:\n",
    "    x_1 = x_0.copy()\n",
    "    # print('df', func.calculate_partial_derivative(x_0, current_variable_index))\n",
    "    # print('d2f', func.calculate_partial_second_derivative(x_0, current_variable_index))\n",
    "    x_1[current_variable_index] -= func.calculate_partial_derivative(x_0, current_variable_index) / func.calculate_partial_second_derivative(x_0, current_variable_index)\n",
    "    return x_1\n",
    "\n",
    "\n",
    "def newton_variable_descent(func: TargetFunction, x_1: np.array, precision: float = 0.001, max_iterations: int = 1000, history: pd.DataFrame = pd.DataFrame(columns=['Текущая координата', 'x_0', 'x_1', '||x_0 - x_1||', 'f(x_1)', 'Вычисления f(x)', 'Вычисления производной', 'Вычисления второй производной'])) -> (np.array, float, pd.DataFrame):\n",
    "    # Инициализируем начальные значения\n",
    "    indexes_dict: dict = {0: 1, 1: 2, 2: 3, 3: 0} \n",
    "    current_variable_index: int = 0\n",
    "    prev_index_x: np.array = x_1\n",
    "    \n",
    "    # Выполняем шаги метода, пока не достигнем нужной точности\n",
    "    for iteration in range(1, max_iterations + 1):\n",
    "        x_0: np.array = x_1\n",
    "        x_1: np.array = make_newton_step(func, x_0, current_variable_index)  \n",
    "        \n",
    "        history.loc[len(history)] = (current_variable_index, x_0, x_1, np.linalg.norm(x_0 - x_1), func.calculate(x_1, add_calculations_count=False), func.get_calculations_count(), func.get_derivative_calculations_count(), func.get_second_derivative_calculations_count())\n",
    "        \n",
    "        if np.linalg.norm(x_0 - x_1) < precision:\n",
    "            if np.linalg.norm(prev_index_x - x_1) < precision:\n",
    "                break\n",
    "            prev_index_x = x_1\n",
    "            current_variable_index = indexes_dict[current_variable_index]\n",
    "            \n",
    "    # Возвращаем полученные значения\n",
    "    return x_1, func.calculate(x_1, add_calculations_count=False), history"
   ],
   "metadata": {
    "collapsed": false,
    "ExecuteTime": {
     "end_time": "2023-11-27T07:42:55.903063746Z",
     "start_time": "2023-11-27T07:42:55.834980049Z"
    }
   }
  },
  {
   "cell_type": "code",
   "execution_count": 7,
   "outputs": [
    {
     "name": "stdout",
     "output_type": "stream",
     "text": [
      "                  (Точка минимума, Минимальное значение) : ([-0.5        -0.5        -0.5        -0.05555556], -6.305555555555555) \n",
      "                   Количество вычислений целевой функции : 0 \n",
      "       Количество вычислений производной целевой функции : 9 \n",
      "Количество вычислений второй производной целевой функции : 9\n"
     ]
    },
    {
     "data": {
      "text/plain": "   Текущая координата                                        x_0  \\\n0                   0                  [10.0, -73.0, 65.0, 54.0]   \n1                   0                  [-0.5, -73.0, 65.0, 54.0]   \n2                   1                  [-0.5, -73.0, 65.0, 54.0]   \n3                   1                   [-0.5, -0.5, 65.0, 54.0]   \n4                   2                   [-0.5, -0.5, 65.0, 54.0]   \n5                   2                   [-0.5, -0.5, -0.5, 54.0]   \n6                   3                   [-0.5, -0.5, -0.5, 54.0]   \n7                   3  [-0.5, -0.5, -0.5, -0.055555555555557135]   \n8                   0   [-0.5, -0.5, -0.5, -0.05555555555555555]   \n\n                                         x_1  ||x_0 - x_1||         f(x_1)  \\\n0                  [-0.5, -73.0, 65.0, 54.0]   1.050000e+01  131320.000000   \n1                  [-0.5, -73.0, 65.0, 54.0]   0.000000e+00  131320.000000   \n2                   [-0.5, -0.5, 65.0, 54.0]   7.250000e+01   99782.500000   \n3                   [-0.5, -0.5, 65.0, 54.0]   0.000000e+00   99782.500000   \n4                   [-0.5, -0.5, -0.5, 54.0]   6.550000e+01   52589.750000   \n5                   [-0.5, -0.5, -0.5, 54.0]   0.000000e+00   52589.750000   \n6  [-0.5, -0.5, -0.5, -0.055555555555557135]   5.405556e+01      -6.305556   \n7   [-0.5, -0.5, -0.5, -0.05555555555555555]   1.582068e-15      -6.305556   \n8   [-0.5, -0.5, -0.5, -0.05555555555555555]   0.000000e+00      -6.305556   \n\n   Вычисления f(x)  Вычисления производной  Вычисления второй производной  \n0                0                       1                              1  \n1                0                       2                              2  \n2                0                       3                              3  \n3                0                       4                              4  \n4                0                       5                              5  \n5                0                       6                              6  \n6                0                       7                              7  \n7                0                       8                              8  \n8                0                       9                              9  ",
      "text/html": "<div>\n<style scoped>\n    .dataframe tbody tr th:only-of-type {\n        vertical-align: middle;\n    }\n\n    .dataframe tbody tr th {\n        vertical-align: top;\n    }\n\n    .dataframe thead th {\n        text-align: right;\n    }\n</style>\n<table border=\"1\" class=\"dataframe\">\n  <thead>\n    <tr style=\"text-align: right;\">\n      <th></th>\n      <th>Текущая координата</th>\n      <th>x_0</th>\n      <th>x_1</th>\n      <th>||x_0 - x_1||</th>\n      <th>f(x_1)</th>\n      <th>Вычисления f(x)</th>\n      <th>Вычисления производной</th>\n      <th>Вычисления второй производной</th>\n    </tr>\n  </thead>\n  <tbody>\n    <tr>\n      <th>0</th>\n      <td>0</td>\n      <td>[10.0, -73.0, 65.0, 54.0]</td>\n      <td>[-0.5, -73.0, 65.0, 54.0]</td>\n      <td>1.050000e+01</td>\n      <td>131320.000000</td>\n      <td>0</td>\n      <td>1</td>\n      <td>1</td>\n    </tr>\n    <tr>\n      <th>1</th>\n      <td>0</td>\n      <td>[-0.5, -73.0, 65.0, 54.0]</td>\n      <td>[-0.5, -73.0, 65.0, 54.0]</td>\n      <td>0.000000e+00</td>\n      <td>131320.000000</td>\n      <td>0</td>\n      <td>2</td>\n      <td>2</td>\n    </tr>\n    <tr>\n      <th>2</th>\n      <td>1</td>\n      <td>[-0.5, -73.0, 65.0, 54.0]</td>\n      <td>[-0.5, -0.5, 65.0, 54.0]</td>\n      <td>7.250000e+01</td>\n      <td>99782.500000</td>\n      <td>0</td>\n      <td>3</td>\n      <td>3</td>\n    </tr>\n    <tr>\n      <th>3</th>\n      <td>1</td>\n      <td>[-0.5, -0.5, 65.0, 54.0]</td>\n      <td>[-0.5, -0.5, 65.0, 54.0]</td>\n      <td>0.000000e+00</td>\n      <td>99782.500000</td>\n      <td>0</td>\n      <td>4</td>\n      <td>4</td>\n    </tr>\n    <tr>\n      <th>4</th>\n      <td>2</td>\n      <td>[-0.5, -0.5, 65.0, 54.0]</td>\n      <td>[-0.5, -0.5, -0.5, 54.0]</td>\n      <td>6.550000e+01</td>\n      <td>52589.750000</td>\n      <td>0</td>\n      <td>5</td>\n      <td>5</td>\n    </tr>\n    <tr>\n      <th>5</th>\n      <td>2</td>\n      <td>[-0.5, -0.5, -0.5, 54.0]</td>\n      <td>[-0.5, -0.5, -0.5, 54.0]</td>\n      <td>0.000000e+00</td>\n      <td>52589.750000</td>\n      <td>0</td>\n      <td>6</td>\n      <td>6</td>\n    </tr>\n    <tr>\n      <th>6</th>\n      <td>3</td>\n      <td>[-0.5, -0.5, -0.5, 54.0]</td>\n      <td>[-0.5, -0.5, -0.5, -0.055555555555557135]</td>\n      <td>5.405556e+01</td>\n      <td>-6.305556</td>\n      <td>0</td>\n      <td>7</td>\n      <td>7</td>\n    </tr>\n    <tr>\n      <th>7</th>\n      <td>3</td>\n      <td>[-0.5, -0.5, -0.5, -0.055555555555557135]</td>\n      <td>[-0.5, -0.5, -0.5, -0.05555555555555555]</td>\n      <td>1.582068e-15</td>\n      <td>-6.305556</td>\n      <td>0</td>\n      <td>8</td>\n      <td>8</td>\n    </tr>\n    <tr>\n      <th>8</th>\n      <td>0</td>\n      <td>[-0.5, -0.5, -0.5, -0.05555555555555555]</td>\n      <td>[-0.5, -0.5, -0.5, -0.05555555555555555]</td>\n      <td>0.000000e+00</td>\n      <td>-6.305556</td>\n      <td>0</td>\n      <td>9</td>\n      <td>9</td>\n    </tr>\n  </tbody>\n</table>\n</div>"
     },
     "execution_count": 7,
     "metadata": {},
     "output_type": "execute_result"
    }
   ],
   "source": [
    "min_x, min_value, minimizer_history = newton_variable_descent(my_func, np.array([10.0, -73.0, 65.0, 54.0]))\n",
    "\n",
    "print(f'                  (Точка минимума, Минимальное значение) : ({min_x}, {min_value}) \\n                   Количество вычислений целевой функции : {my_func.get_calculations_count()} \\n       Количество вычислений производной целевой функции : {my_func.get_derivative_calculations_count()} \\nКоличество вычислений второй производной целевой функции : {my_func.get_second_derivative_calculations_count()}')\n",
    "\n",
    "_: str = my_func.flush_calculations_count()\n",
    "_: str = my_func.flush_derivative_calculations_count()\n",
    "_: str = my_func.flush_second_derivative_calculations_count()\n",
    "\n",
    "minimizer_history"
   ],
   "metadata": {
    "collapsed": false,
    "ExecuteTime": {
     "end_time": "2023-11-27T07:42:59.292707408Z",
     "start_time": "2023-11-27T07:42:59.171384776Z"
    }
   }
  },
  {
   "cell_type": "markdown",
   "source": [
    "gradient_descent"
   ],
   "metadata": {
    "collapsed": false
   }
  },
  {
   "cell_type": "code",
   "execution_count": 9,
   "outputs": [],
   "source": [
    "def gradient_descent(func: TargetFunction, x_1: np.array, precision: float = 0.001, max_iterations: int = 1000, history: pd.DataFrame = pd.DataFrame(columns=['x_0', 'x_1', '||x_0 - x_1||', 'f(x_1)', 'Вычисления f(x)', 'Вычисления производной', 'Вычисления второй производной'])) -> (np.array, float, pd.DataFrame):\n",
    "    step_size: float = 0.01\n",
    "    \n",
    "    # Выполняем шаги метода, пока не достигнем нужной точности\n",
    "    for iteration in range(1, max_iterations + 1):\n",
    "        x_0: np.array = x_1\n",
    "        \n",
    "        gradient = np.array([\n",
    "            func.calculate_partial_derivative(x_0, 0),\n",
    "            func.calculate_partial_derivative(x_0, 1),\n",
    "            func.calculate_partial_derivative(x_0, 2),\n",
    "            func.calculate_partial_derivative(x_0, 3),\n",
    "        ]) \n",
    "        \n",
    "        x_1 =  x_0  - step_size * gradient\n",
    "        \n",
    "        history.loc[len(history)] = (x_0, x_1, np.linalg.norm(x_0 - x_1), func.calculate(x_1, add_calculations_count=False), func.get_calculations_count(), func.get_derivative_calculations_count(), func.get_second_derivative_calculations_count())\n",
    "        \n",
    "        if np.linalg.norm(gradient) < precision:\n",
    "            return x_1, func.calculate(x_1, add_calculations_count=False), history\n",
    "            \n",
    "    # Возвращаем полученные значения\n",
    "    return x_1, func.calculate(x_1, add_calculations_count=False), history"
   ],
   "metadata": {
    "collapsed": false,
    "ExecuteTime": {
     "end_time": "2023-11-27T08:01:21.413188863Z",
     "start_time": "2023-11-27T08:01:21.357476197Z"
    }
   }
  },
  {
   "cell_type": "code",
   "execution_count": 10,
   "outputs": [
    {
     "name": "stdout",
     "output_type": "stream",
     "text": [
      "                  (Точка минимума, Минимальное значение) : ([-0.49999993 -0.50007319 -0.5        -0.05555556], -6.305555523412661) \n",
      "                   Количество вычислений целевой функции : 0 \n",
      "       Количество вычислений производной целевой функции : 432 \n",
      "Количество вычислений второй производной целевой функции : 0\n"
     ]
    },
    {
     "data": {
      "text/plain": "                                                   x_0  \\\n0                            [10.0, -73.0, 65.0, 54.0]   \n1                          [8.32, -64.3, 50.59, 34.54]   \n2                  [6.9088, -56.644, 39.3502, 22.0856]   \n3    [5.7233920000000005, -49.90672, 30.58315600000...   \n4    [4.7276492800000005, -43.9779136, 23.744861680...   \n..                                                 ...   \n103  [-0.49999983329226017, -0.5001386925834913, -0...   \n104  [-0.49999985996549856, -0.5001220494734724, -0...   \n105  [-0.4999998823710188, -0.5001074035366557, -0....   \n106  [-0.49999990119165577, -0.500094515112257, -0....   \n107  [-0.49999991700099083, -0.5000831732987862, -0...   \n\n                                                   x_1  ||x_0 - x_1||  \\\n0                          [8.32, -64.3, 50.59, 34.54]      25.784726   \n1                  [6.9088, -56.644, 39.3502, 22.0856]      18.494621   \n2    [5.7233920000000005, -49.90672, 30.58315600000...      13.681780   \n3    [4.7276492800000005, -43.9779136, 23.744861680...      10.436858   \n4    [3.8912253952, -38.760563968, 18.4109921104000...       8.187168   \n..                                                 ...            ...   \n103  [-0.49999985996549856, -0.5001220494734724, -0...       0.000017   \n104  [-0.4999998823710188, -0.5001074035366557, -0....       0.000015   \n105  [-0.49999990119165577, -0.500094515112257, -0....       0.000013   \n106  [-0.49999991700099083, -0.5000831732987862, -0...       0.000011   \n107  [-0.4999999302808323, -0.5000731925029318, -0....       0.000010   \n\n           f(x_1)  Вычисления f(x)  Вычисления производной  \\\n0    75294.087100                0                       4   \n1    45638.286088                0                       8   \n2    29191.845068                0                      12   \n3    19500.688654                0                      16   \n4    13471.454943                0                      20   \n..            ...              ...                     ...   \n103     -6.305555                0                     416   \n104     -6.305555                0                     420   \n105     -6.305556                0                     424   \n106     -6.305556                0                     428   \n107     -6.305556                0                     432   \n\n     Вычисления второй производной  \n0                                0  \n1                                0  \n2                                0  \n3                                0  \n4                                0  \n..                             ...  \n103                              0  \n104                              0  \n105                              0  \n106                              0  \n107                              0  \n\n[108 rows x 7 columns]",
      "text/html": "<div>\n<style scoped>\n    .dataframe tbody tr th:only-of-type {\n        vertical-align: middle;\n    }\n\n    .dataframe tbody tr th {\n        vertical-align: top;\n    }\n\n    .dataframe thead th {\n        text-align: right;\n    }\n</style>\n<table border=\"1\" class=\"dataframe\">\n  <thead>\n    <tr style=\"text-align: right;\">\n      <th></th>\n      <th>x_0</th>\n      <th>x_1</th>\n      <th>||x_0 - x_1||</th>\n      <th>f(x_1)</th>\n      <th>Вычисления f(x)</th>\n      <th>Вычисления производной</th>\n      <th>Вычисления второй производной</th>\n    </tr>\n  </thead>\n  <tbody>\n    <tr>\n      <th>0</th>\n      <td>[10.0, -73.0, 65.0, 54.0]</td>\n      <td>[8.32, -64.3, 50.59, 34.54]</td>\n      <td>25.784726</td>\n      <td>75294.087100</td>\n      <td>0</td>\n      <td>4</td>\n      <td>0</td>\n    </tr>\n    <tr>\n      <th>1</th>\n      <td>[8.32, -64.3, 50.59, 34.54]</td>\n      <td>[6.9088, -56.644, 39.3502, 22.0856]</td>\n      <td>18.494621</td>\n      <td>45638.286088</td>\n      <td>0</td>\n      <td>8</td>\n      <td>0</td>\n    </tr>\n    <tr>\n      <th>2</th>\n      <td>[6.9088, -56.644, 39.3502, 22.0856]</td>\n      <td>[5.7233920000000005, -49.90672, 30.58315600000...</td>\n      <td>13.681780</td>\n      <td>29191.845068</td>\n      <td>0</td>\n      <td>12</td>\n      <td>0</td>\n    </tr>\n    <tr>\n      <th>3</th>\n      <td>[5.7233920000000005, -49.90672, 30.58315600000...</td>\n      <td>[4.7276492800000005, -43.9779136, 23.744861680...</td>\n      <td>10.436858</td>\n      <td>19500.688654</td>\n      <td>0</td>\n      <td>16</td>\n      <td>0</td>\n    </tr>\n    <tr>\n      <th>4</th>\n      <td>[4.7276492800000005, -43.9779136, 23.744861680...</td>\n      <td>[3.8912253952, -38.760563968, 18.4109921104000...</td>\n      <td>8.187168</td>\n      <td>13471.454943</td>\n      <td>0</td>\n      <td>20</td>\n      <td>0</td>\n    </tr>\n    <tr>\n      <th>...</th>\n      <td>...</td>\n      <td>...</td>\n      <td>...</td>\n      <td>...</td>\n      <td>...</td>\n      <td>...</td>\n      <td>...</td>\n    </tr>\n    <tr>\n      <th>103</th>\n      <td>[-0.49999983329226017, -0.5001386925834913, -0...</td>\n      <td>[-0.49999985996549856, -0.5001220494734724, -0...</td>\n      <td>0.000017</td>\n      <td>-6.305555</td>\n      <td>0</td>\n      <td>416</td>\n      <td>0</td>\n    </tr>\n    <tr>\n      <th>104</th>\n      <td>[-0.49999985996549856, -0.5001220494734724, -0...</td>\n      <td>[-0.4999998823710188, -0.5001074035366557, -0....</td>\n      <td>0.000015</td>\n      <td>-6.305555</td>\n      <td>0</td>\n      <td>420</td>\n      <td>0</td>\n    </tr>\n    <tr>\n      <th>105</th>\n      <td>[-0.4999998823710188, -0.5001074035366557, -0....</td>\n      <td>[-0.49999990119165577, -0.500094515112257, -0....</td>\n      <td>0.000013</td>\n      <td>-6.305556</td>\n      <td>0</td>\n      <td>424</td>\n      <td>0</td>\n    </tr>\n    <tr>\n      <th>106</th>\n      <td>[-0.49999990119165577, -0.500094515112257, -0....</td>\n      <td>[-0.49999991700099083, -0.5000831732987862, -0...</td>\n      <td>0.000011</td>\n      <td>-6.305556</td>\n      <td>0</td>\n      <td>428</td>\n      <td>0</td>\n    </tr>\n    <tr>\n      <th>107</th>\n      <td>[-0.49999991700099083, -0.5000831732987862, -0...</td>\n      <td>[-0.4999999302808323, -0.5000731925029318, -0....</td>\n      <td>0.000010</td>\n      <td>-6.305556</td>\n      <td>0</td>\n      <td>432</td>\n      <td>0</td>\n    </tr>\n  </tbody>\n</table>\n<p>108 rows × 7 columns</p>\n</div>"
     },
     "execution_count": 10,
     "metadata": {},
     "output_type": "execute_result"
    }
   ],
   "source": [
    "min_x, min_value, minimizer_history = gradient_descent(my_func, np.array([10.0, -73.0, 65.0, 54.0]))\n",
    "\n",
    "print(f'                  (Точка минимума, Минимальное значение) : ({min_x}, {min_value}) \\n                   Количество вычислений целевой функции : {my_func.get_calculations_count()} \\n       Количество вычислений производной целевой функции : {my_func.get_derivative_calculations_count()} \\nКоличество вычислений второй производной целевой функции : {my_func.get_second_derivative_calculations_count()}')\n",
    "\n",
    "_: str = my_func.flush_calculations_count()\n",
    "_: str = my_func.flush_derivative_calculations_count()\n",
    "_: str = my_func.flush_second_derivative_calculations_count()\n",
    "\n",
    "minimizer_history"
   ],
   "metadata": {
    "collapsed": false,
    "ExecuteTime": {
     "end_time": "2023-11-27T08:01:39.301888411Z",
     "start_time": "2023-11-27T08:01:38.699275561Z"
    }
   }
  }
 ],
 "metadata": {
  "kernelspec": {
   "display_name": "Python 3",
   "language": "python",
   "name": "python3"
  },
  "language_info": {
   "codemirror_mode": {
    "name": "ipython",
    "version": 2
   },
   "file_extension": ".py",
   "mimetype": "text/x-python",
   "name": "python",
   "nbconvert_exporter": "python",
   "pygments_lexer": "ipython2",
   "version": "2.7.6"
  }
 },
 "nbformat": 4,
 "nbformat_minor": 0
}
