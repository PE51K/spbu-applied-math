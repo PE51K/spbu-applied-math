{
 "cells": [
  {
   "cell_type": "code",
   "execution_count": 11,
   "metadata": {},
   "outputs": [],
   "source": [
    "import numpy as np\n",
    "\n",
    "def f(x: np.array, t: float) -> float:\n",
    "    return x[1] ** 2 + 2 * x[0] * x[2] - x[2] - t / x[0] - t / x[1] - t / x[2]\n",
    "\n",
    "def grad_f(x: np.array, t: float) -> np.array:\n",
    "    return np.array([\n",
    "        2 * x[2] + t / (x[0] ** 2),\n",
    "        2 * x[1] + t / (x[1] ** 2), \n",
    "        2 * x[0] - 1 + t / (x[2] ** 2)\n",
    "    ])"
   ]
  },
  {
   "cell_type": "code",
   "execution_count": 12,
   "metadata": {},
   "outputs": [],
   "source": [
    "# Прямая X(t) = {-t, t, -t} + {4, 0, 8}\n",
    "# Пусть t = 1 => X(1) = {-1, 1, -1} + {4, 0, 8}\n",
    "\n"
   ]
  },
  {
   "cell_type": "code",
   "execution_count": 13,
   "metadata": {},
   "outputs": [],
   "source": [
    "def f_t(t: float) -> float:\n",
    "    return 3 * t ** 2 - 23 * t + 56"
   ]
  },
  {
   "cell_type": "code",
   "execution_count": 19,
   "metadata": {},
   "outputs": [
    {
     "data": {
      "text/plain": [
       "13.679999999999993"
      ]
     },
     "execution_count": 19,
     "metadata": {},
     "output_type": "execute_result"
    }
   ],
   "source": [
    "f_t(23/5)"
   ]
  },
  {
   "cell_type": "code",
   "execution_count": 22,
   "metadata": {},
   "outputs": [
    {
     "data": {
      "text/plain": [
       "16"
      ]
     },
     "execution_count": 22,
     "metadata": {},
     "output_type": "execute_result"
    }
   ],
   "source": [
    "def f(x): return 3 * x ** 2 - 23 * x + 56\n",
    "f(5)"
   ]
  }
 ],
 "metadata": {
  "kernelspec": {
   "display_name": "venv",
   "language": "python",
   "name": "python3"
  },
  "language_info": {
   "codemirror_mode": {
    "name": "ipython",
    "version": 3
   },
   "file_extension": ".py",
   "mimetype": "text/x-python",
   "name": "python",
   "nbconvert_exporter": "python",
   "pygments_lexer": "ipython3",
   "version": "3.11.5"
  }
 },
 "nbformat": 4,
 "nbformat_minor": 2
}
