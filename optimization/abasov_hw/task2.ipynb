{
 "cells": [
  {
   "cell_type": "code",
   "execution_count": 10,
   "metadata": {},
   "outputs": [],
   "source": [
    "import numpy as np\n",
    "import matplotlib.pyplot as plt\n",
    "import pandas as pd"
   ]
  },
  {
   "cell_type": "code",
   "execution_count": 11,
   "metadata": {},
   "outputs": [],
   "source": [
    "def get_hex(number: float | int):\n",
    "    if type(number) == int:\n",
    "        return f'{number:x}'\n",
    "    point_position: int = str(number).find(\".\")\n",
    "    return f'{int(str(number)[0:point_position]):x}.{int(str(number)[point_position + 1:]):x}'"
   ]
  },
  {
   "cell_type": "markdown",
   "metadata": {},
   "source": [
    "### Целевая функция"
   ]
  },
  {
   "cell_type": "code",
   "execution_count": 12,
   "metadata": {},
   "outputs": [],
   "source": [
    "# Определение целевой функции\n",
    "class TargetFunction:\n",
    "    def __init__(self, name: str, middle_name: str, surname: str):\n",
    "        self.a_1: float = len(name) / 10\n",
    "        self.a_2: float = len(middle_name) / 10\n",
    "        self.a_3: float = len(surname) / 10\n",
    "        self.A: float = len(name) + len(middle_name) + len(surname)\n",
    "        self.calculations_count: int = 0\n",
    "        self.derivative_calculations_count: int = 0\n",
    "        self.second_derivative_calculations_count: int = 0\n",
    "        \n",
    "    def calculate(self, x: float) -> float:\n",
    "        self.calculations_count += 1\n",
    "        return np.exp(self.a_1 * x) + np.exp(self.a_2 * x) + np.exp(self.a_3 * x) - self.A * np.sin(x)\n",
    "\n",
    "    def get_calculations_count(self) -> int:\n",
    "        return self.calculations_count\n",
    "\n",
    "    def flush_calculations_count(self) -> str:\n",
    "        self.calculations_count = 0\n",
    "        return 'Calculations count flush - Success'\n",
    "\n",
    "    def calculate_derivative(self, x):\n",
    "        self.derivative_calculations_count += 1\n",
    "        return self.a_1 * np.exp(self.a_1 * x) + self.a_2 * np.exp(self.a_2 * x) + self.a_3 * np.exp(self.a_3 * x) - self.A * np.cos(x)\n",
    "\n",
    "    def get_derivative_calculations_count(self) -> int:\n",
    "        return self.derivative_calculations_count\n",
    "\n",
    "    def flush_derivative_calculations_count(self) -> str:\n",
    "        self.derivative_calculations_count = 0\n",
    "        return 'Derivative calculations count flush - Success'\n",
    "\n",
    "    def calculate_second_derivative(self, x):\n",
    "        self.second_derivative_calculations_count += 1\n",
    "        return self.a_1 * self.a_1 * np.exp(self.a_1 * x) + self.a_2 * self.a_2 * np.exp(self.a_2 * x) + self.a_3 * self.a_3 * np.exp(self.a_3 * x) + self.A * np.sin(x)\n",
    "\n",
    "    def get_second_derivative_calculations_count(self) -> int:\n",
    "        return self.second_derivative_calculations_count\n",
    "\n",
    "    def flush_second_derivative_calculations_count(self) -> str:\n",
    "        self.second_derivative_calculations_count = 0\n",
    "        return 'Second derivative calculations count flush - Success'"
   ]
  },
  {
   "attachments": {
    "image.png": {
     "image/png": "[encoded data removed]"
    }
   },
   "cell_type": "markdown",
   "metadata": {},
   "source": [
    "![image.png](attachment:image.png)"
   ]
  },
  {
   "cell_type": "code",
   "execution_count": 50,
   "metadata": {},
   "outputs": [],
   "source": [
    "class NewVectorTargetFunction(TargetFunction):\n",
    "    def __init__(self):\n",
    "        self.calculations_count: int = 0\n",
    "        self.gradient_calculations_count: int = 0\n",
    "        self.derivative_calculations_count: int = 0\n",
    "        self.second_derivative_calculations_count: int = 0\n",
    "        \n",
    "    def calculate(self, x: np.array) -> float:\n",
    "        self.calculations_count += 1\n",
    "        return x[0] ** 2 + np.exp(x[0] ** 2 + x[1] ** 2) + 4 * x[0] + 3 * x[1]\n",
    "\n",
    "    def calculate_gradient(self, x: np.array) -> np.array:\n",
    "        self.gradient_calculations_count += 1\n",
    "        return np.array([\n",
    "            2 * x[0] + 2 * x[0] * np.exp(x[0] ** 2 + x[1] ** 2) + 4,\n",
    "            2 * x[1] * np.exp(x[0] ** 2 + x[1] ** 2) + 3\n",
    "        ])\n",
    "\n",
    "    def flush_gradient_calculations_count(self):\n",
    "        self.gradient_calculations_count = 0\n",
    "        return 'Gradient count flush - Success'"
   ]
  },
  {
   "cell_type": "markdown",
   "metadata": {},
   "source": [
    "### Поиск минимума методом градиентного спуска"
   ]
  },
  {
   "cell_type": "code",
   "execution_count": 51,
   "metadata": {},
   "outputs": [],
   "source": [
    "def gradient_descent(\n",
    "    func: TargetFunction, \n",
    "    start_point: np.array = np.array([0, 0]), \n",
    "    step_size: float = 0.01, \n",
    "    stop_factor: float = 0.001,\n",
    "    max_iter_count: int = 1000,\n",
    "    history: pd.DataFrame = pd.DataFrame(columns=['x', 'f(x)', 'Вычисления f(x)', 'grad(f(x))', 'Вычисления grad(f(x))'])\n",
    "    ) -> (np.array, float, pd.DataFrame):\n",
    "\n",
    "    # Итерируемся\n",
    "    for _ in range(max_iter_count):\n",
    "        grad: np.array =  func.calculate_gradient(start_point)\n",
    "        if abs(np.linalg.norm(grad, np.inf)) < stop_factor:\n",
    "            break\n",
    "        else:\n",
    "            start_point = start_point - grad * step_size\n",
    "            history.loc[len(history)] = (\n",
    "                start_point, \n",
    "                func.calculate(start_point), \n",
    "                func.calculations_count,\n",
    "                grad,\n",
    "                func.gradient_calculations_count\n",
    "            )\n",
    "    \n",
    "    return np.round(start_point, 5), np.round(func.calculate(start_point), 5), history"
   ]
  },
  {
   "cell_type": "code",
   "execution_count": 52,
   "metadata": {},
   "outputs": [],
   "source": [
    "my_func: NewVectorTargetFunction = NewVectorTargetFunction()"
   ]
  },
  {
   "cell_type": "code",
   "execution_count": 53,
   "metadata": {},
   "outputs": [
    {
     "data": {
      "text/plain": [
       "'Calculations count flush - Success'"
      ]
     },
     "execution_count": 53,
     "metadata": {},
     "output_type": "execute_result"
    }
   ],
   "source": [
    "my_func.flush_calculations_count()"
   ]
  },
  {
   "cell_type": "code",
   "execution_count": 54,
   "metadata": {},
   "outputs": [
    {
     "data": {
      "text/plain": [
       "'Gradient count flush - Success'"
      ]
     },
     "execution_count": 54,
     "metadata": {},
     "output_type": "execute_result"
    }
   ],
   "source": [
    "my_func.flush_gradient_calculations_count()"
   ]
  },
  {
   "cell_type": "code",
   "execution_count": 55,
   "metadata": {},
   "outputs": [
    {
     "name": "stdout",
     "output_type": "stream",
     "text": [
      "(Точка минимума, Минимальное значение) : ([-0.61338 -0.66311], -1.80529) \n",
      " Количество вычислений градиента функции : 131\n"
     ]
    },
    {
     "data": {
      "text/html": [
       "<div>\n",
       "<style scoped>\n",
       "    .dataframe tbody tr th:only-of-type {\n",
       "        vertical-align: middle;\n",
       "    }\n",
       "\n",
       "    .dataframe tbody tr th {\n",
       "        vertical-align: top;\n",
       "    }\n",
       "\n",
       "    .dataframe thead th {\n",
       "        text-align: right;\n",
       "    }\n",
       "</style>\n",
       "<table border=\"1\" class=\"dataframe\">\n",
       "  <thead>\n",
       "    <tr style=\"text-align: right;\">\n",
       "      <th></th>\n",
       "      <th>x</th>\n",
       "      <th>f(x)</th>\n",
       "      <th>Вычисления f(x)</th>\n",
       "      <th>grad(f(x))</th>\n",
       "      <th>Вычисления grad(f(x))</th>\n",
       "    </tr>\n",
       "  </thead>\n",
       "  <tbody>\n",
       "    <tr>\n",
       "      <th>0</th>\n",
       "      <td>[-0.04, -0.03]</td>\n",
       "      <td>0.754103</td>\n",
       "      <td>1</td>\n",
       "      <td>[4.0, 3.0]</td>\n",
       "      <td>1</td>\n",
       "    </tr>\n",
       "    <tr>\n",
       "      <th>1</th>\n",
       "      <td>[-0.07839799749791537, -0.059398498123436526]</td>\n",
       "      <td>0.524080</td>\n",
       "      <td>2</td>\n",
       "      <td>[3.8397997497915366, 2.9398498123436525]</td>\n",
       "      <td>2</td>\n",
       "    </tr>\n",
       "    <tr>\n",
       "      <th>2</th>\n",
       "      <td>[-0.11524683486954712, -0.08819897945811533]</td>\n",
       "      <td>0.308982</td>\n",
       "      <td>3</td>\n",
       "      <td>[3.6848837371631746, 2.8800481334678816]</td>\n",
       "      <td>3</td>\n",
       "    </tr>\n",
       "    <tr>\n",
       "      <th>3</th>\n",
       "      <td>[-0.15058790265184369, -0.11639745490626495]</td>\n",
       "      <td>0.108022</td>\n",
       "      <td>4</td>\n",
       "      <td>[3.534106778229657, 2.8198475448149614]</td>\n",
       "      <td>4</td>\n",
       "    </tr>\n",
       "    <tr>\n",
       "      <th>4</th>\n",
       "      <td>[-0.18445328517852763, -0.14398362961120828]</td>\n",
       "      <td>-0.079460</td>\n",
       "      <td>5</td>\n",
       "      <td>[3.3865382526683936, 2.758617470494333]</td>\n",
       "      <td>5</td>\n",
       "    </tr>\n",
       "    <tr>\n",
       "      <th>...</th>\n",
       "      <td>...</td>\n",
       "      <td>...</td>\n",
       "      <td>...</td>\n",
       "      <td>...</td>\n",
       "      <td>...</td>\n",
       "    </tr>\n",
       "    <tr>\n",
       "      <th>125</th>\n",
       "      <td>[-0.6134131263550355, -0.6630653384045129]</td>\n",
       "      <td>-1.805292</td>\n",
       "      <td>126</td>\n",
       "      <td>[-0.001083769728486672, 0.0013185748182724666]</td>\n",
       "      <td>126</td>\n",
       "    </tr>\n",
       "    <tr>\n",
       "      <th>126</th>\n",
       "      <td>[-0.6134028793190661, -0.6630778021812676]</td>\n",
       "      <td>-1.805292</td>\n",
       "      <td>127</td>\n",
       "      <td>[-0.0010247035969399576, 0.0012463776754705336]</td>\n",
       "      <td>127</td>\n",
       "    </tr>\n",
       "    <tr>\n",
       "      <th>127</th>\n",
       "      <td>[-0.6133931908643354, -0.663089583597212]</td>\n",
       "      <td>-1.805292</td>\n",
       "      <td>128</td>\n",
       "      <td>[-0.0009688454730758522, 0.0011781415944529527]</td>\n",
       "      <td>128</td>\n",
       "    </tr>\n",
       "    <tr>\n",
       "      <th>128</th>\n",
       "      <td>[-0.6133840306396601, -0.6631007200799928]</td>\n",
       "      <td>-1.805292</td>\n",
       "      <td>129</td>\n",
       "      <td>[-0.0009160224675355266, 0.0011136482780753632]</td>\n",
       "      <td>129</td>\n",
       "    </tr>\n",
       "    <tr>\n",
       "      <th>129</th>\n",
       "      <td>[-0.6133753699312184, -0.6631112469957878]</td>\n",
       "      <td>-1.805292</td>\n",
       "      <td>130</td>\n",
       "      <td>[-0.0008660708441610154, 0.0010526915795092684]</td>\n",
       "      <td>130</td>\n",
       "    </tr>\n",
       "  </tbody>\n",
       "</table>\n",
       "<p>130 rows × 5 columns</p>\n",
       "</div>"
      ],
      "text/plain": [
       "                                                 x      f(x)  Вычисления f(x)  \\\n",
       "0                                   [-0.04, -0.03]  0.754103                1   \n",
       "1    [-0.07839799749791537, -0.059398498123436526]  0.524080                2   \n",
       "2     [-0.11524683486954712, -0.08819897945811533]  0.308982                3   \n",
       "3     [-0.15058790265184369, -0.11639745490626495]  0.108022                4   \n",
       "4     [-0.18445328517852763, -0.14398362961120828] -0.079460                5   \n",
       "..                                             ...       ...              ...   \n",
       "125     [-0.6134131263550355, -0.6630653384045129] -1.805292              126   \n",
       "126     [-0.6134028793190661, -0.6630778021812676] -1.805292              127   \n",
       "127      [-0.6133931908643354, -0.663089583597212] -1.805292              128   \n",
       "128     [-0.6133840306396601, -0.6631007200799928] -1.805292              129   \n",
       "129     [-0.6133753699312184, -0.6631112469957878] -1.805292              130   \n",
       "\n",
       "                                          grad(f(x))  Вычисления grad(f(x))  \n",
       "0                                         [4.0, 3.0]                      1  \n",
       "1           [3.8397997497915366, 2.9398498123436525]                      2  \n",
       "2           [3.6848837371631746, 2.8800481334678816]                      3  \n",
       "3            [3.534106778229657, 2.8198475448149614]                      4  \n",
       "4            [3.3865382526683936, 2.758617470494333]                      5  \n",
       "..                                               ...                    ...  \n",
       "125   [-0.001083769728486672, 0.0013185748182724666]                    126  \n",
       "126  [-0.0010247035969399576, 0.0012463776754705336]                    127  \n",
       "127  [-0.0009688454730758522, 0.0011781415944529527]                    128  \n",
       "128  [-0.0009160224675355266, 0.0011136482780753632]                    129  \n",
       "129  [-0.0008660708441610154, 0.0010526915795092684]                    130  \n",
       "\n",
       "[130 rows x 5 columns]"
      ]
     },
     "execution_count": 55,
     "metadata": {},
     "output_type": "execute_result"
    }
   ],
   "source": [
    "min_x, min_value, minimizer_history = gradient_descent(my_func, stop_factor = 10 ** -3)\n",
    "\n",
    "print(f'(Точка минимума, Минимальное значение) : ({min_x}, {min_value}) \\n Количество вычислений градиента функции : {my_func.gradient_calculations_count}')\n",
    "\n",
    "minimizer_history"
   ]
  }
 ],
 "metadata": {
  "kernelspec": {
   "display_name": "venv",
   "language": "python",
   "name": "python3"
  },
  "language_info": {
   "codemirror_mode": {
    "name": "ipython",
    "version": 3
   },
   "file_extension": ".py",
   "mimetype": "text/x-python",
   "name": "python",
   "nbconvert_exporter": "python",
   "pygments_lexer": "ipython3",
   "version": "3.11.5"
  }
 },
 "nbformat": 4,
 "nbformat_minor": 2
}
