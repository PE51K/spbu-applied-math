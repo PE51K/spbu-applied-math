{
 "cells": [
  {
   "metadata": {
    "ExecuteTime": {
     "end_time": "2024-04-09T18:21:12.677121Z",
     "start_time": "2024-04-09T18:21:09.537292Z"
    }
   },
   "cell_type": "code",
   "source": [
    "import os\n",
    "import matplotlib.pyplot as plt\n",
    "import keras_ocr"
   ],
   "id": "a499bfa1df698c97",
   "outputs": [
    {
     "name": "stderr",
     "output_type": "stream",
     "text": [
      "2024-04-09 21:21:10.481434: I tensorflow/tsl/cuda/cudart_stub.cc:28] Could not find cuda drivers on your machine, GPU will not be used.\n",
      "2024-04-09 21:21:10.522026: I tensorflow/tsl/cuda/cudart_stub.cc:28] Could not find cuda drivers on your machine, GPU will not be used.\n",
      "2024-04-09 21:21:10.525228: I tensorflow/core/platform/cpu_feature_guard.cc:182] This TensorFlow binary is optimized to use available CPU instructions in performance-critical operations.\n",
      "To enable the following instructions: AVX2 FMA, in other operations, rebuild TensorFlow with the appropriate compiler flags.\n",
      "2024-04-09 21:21:11.465443: W tensorflow/compiler/tf2tensorrt/utils/py_utils.cc:38] TF-TRT Warning: Could not find TensorRT\n"
     ]
    }
   ],
   "execution_count": 2
  },
  {
   "metadata": {
    "ExecuteTime": {
     "end_time": "2024-04-09T18:21:16.514765Z",
     "start_time": "2024-04-09T18:21:16.150281Z"
    }
   },
   "cell_type": "code",
   "source": [
    "os.environ['MEMORY_GROWTH'] = '1'\n",
    "os.environ['MEMORY_ALLOCATED'] = '0.5'\n",
    "keras_ocr.config.configure()"
   ],
   "id": "7f0699458e12b0f6",
   "outputs": [
    {
     "name": "stdout",
     "output_type": "stream",
     "text": [
      "Memory growth set but no GPUs detected\n"
     ]
    },
    {
     "name": "stderr",
     "output_type": "stream",
     "text": [
      "2024-04-09 21:21:16.251050: I tensorflow/compiler/xla/stream_executor/cuda/cuda_gpu_executor.cc:996] successful NUMA node read from SysFS had negative value (-1), but there must be at least one NUMA node, so returning NUMA node zero. See more at https://github.com/torvalds/linux/blob/v6.0/Documentation/ABI/testing/sysfs-bus-pci#L344-L355\n",
      "2024-04-09 21:21:16.500959: W tensorflow/core/common_runtime/gpu/gpu_device.cc:1956] Cannot dlopen some GPU libraries. Please make sure the missing libraries mentioned above are installed properly if you would like to use GPU. Follow the guide at https://www.tensorflow.org/install/gpu for how to download and setup the required libraries for your platform.\n",
      "Skipping registering GPU devices...\n"
     ]
    }
   ],
   "execution_count": 3
  },
  {
   "metadata": {
    "ExecuteTime": {
     "start_time": "2024-04-09T18:21:30.514057Z"
    }
   },
   "cell_type": "code",
   "source": [
    "pipeline = keras_ocr.pipeline.Pipeline()\n",
    "\n",
    "images = [\n",
    "    keras_ocr.tools.read(url) for url in [\n",
    "        'https://upload.wikimedia.org/wikipedia/commons/b/b4/EUBanana-500x112.jpg'\n",
    "    ]\n",
    "]\n",
    "\n",
    "prediction_groups = pipeline.recognize(images)\n",
    "\n",
    "fig, axs = plt.subplots(nrows=len(images), figsize=(20, 20))\n",
    "for ax, image, predictions in zip(axs, images, prediction_groups):\n",
    "    keras_ocr.tools.drawAnnotations(image=image, predictions=predictions, ax=ax)"
   ],
   "id": "c427991d61ddc7be",
   "outputs": [
    {
     "name": "stdout",
     "output_type": "stream",
     "text": [
      "Looking for /home/gregory1m/.keras-ocr/craft_mlt_25k.h5\n",
      "Downloading /home/gregory1m/.keras-ocr/craft_mlt_25k.h5\n"
     ]
    }
   ],
   "execution_count": null
  },
  {
   "metadata": {},
   "cell_type": "code",
   "outputs": [],
   "execution_count": null,
   "source": [
    "# from io import BytesIO\n",
    "# from typing import Union\n",
    "# \n",
    "# import keras_ocr\n",
    "# from pydantic_settings import BaseSettings\n",
    "# from telegram import (\n",
    "#     Update,\n",
    "#     Message,\n",
    "#     File\n",
    "# )\n",
    "# from telegram.ext import (\n",
    "#     Application,\n",
    "#     CommandHandler,\n",
    "#     MessageHandler,\n",
    "#     filters,\n",
    "#     CallbackContext\n",
    "# )\n",
    "# \n",
    "# \n",
    "# class BotSettings(BaseSettings):\n",
    "#     telegram_bot_token: str\n",
    "# \n",
    "#     class Config:\n",
    "#         env_file = './env/.env'\n",
    "# \n",
    "# \n",
    "# bot_settings: Union[BotSettings, None] = None\n",
    "# ocr_pipeline: Union[keras_ocr.pipeline.Pipeline, None] = None\n",
    "# \n",
    "# \n",
    "# # noinspection PyUnusedLocal\n",
    "# async def start(update: Update, context: CallbackContext) -> None:\n",
    "#     await update.message.reply_text('Hi! Send me a photo and I\\'ll try to recognize text in it.')\n",
    "# \n",
    "# \n",
    "# # noinspection PyUnusedLocal\n",
    "# async def recognize_text(update: Update, context: CallbackContext) -> None:\n",
    "#     global ocr_pipeline\n",
    "# \n",
    "#     sticker_message: Message = await update.message.reply_sticker(\n",
    "#         sticker='CAACAgIAAxkBAAJMS2YHPrVKVmiyNhVR3J5vQE2Qpu-kAAIjAAMoD2oUJ1El54wgpAY0BA'\n",
    "#     )\n",
    "# \n",
    "#     file_id: str = update.message.photo[-1].file_id\n",
    "#     photo_file: File = await context.bot.get_file(file_id)\n",
    "# \n",
    "#     photo_buffer: BytesIO = BytesIO()\n",
    "#     await photo_file.download_to_memory(photo_buffer)\n",
    "#     photo_buffer.seek(0)\n",
    "# \n",
    "#     images: list = [keras_ocr.tools.read(photo_buffer)]\n",
    "#     prediction_groups: list = ocr_pipeline.recognize(images)\n",
    "# \n",
    "#     await context.bot.delete_message(chat_id=update.effective_chat.id, message_id=sticker_message.message_id)\n",
    "# \n",
    "#     # detected_text = \"\\n\".join([word for word, box in prediction_groups[0]])\n",
    "#     # await context.bot.send_message(chat_id=update.effective_chat.id, text=f\"Detected text: {detected_text}\")\n",
    "#     await context.bot.send_message(chat_id=update.effective_chat.id, text=f\"Detected text: {prediction_groups}\")\n",
    "# \n",
    "# \n",
    "# def filter_prediction(prediction):\n",
    "#     \"\"\"Filter prediction to find the required pattern in recognized text.\"\"\"\n",
    "#     for pair in prediction:\n",
    "#         word = pair[0].replace('o', '0')\n",
    "#         if len(word) == 6 and word.isdigit():\n",
    "#             return word\n",
    "#     return 'I could not find the number :('\n",
    "# \n",
    "# \n",
    "# def setup_and_start_bot():\n",
    "#     global bot_settings, ocr_pipeline\n",
    "# \n",
    "#     bot_settings = BotSettings()\n",
    "#     ocr_pipeline = keras_ocr.pipeline.Pipeline()\n",
    "# \n",
    "#     application: Application = Application.builder().token(bot_settings.telegram_bot_token).build()\n",
    "# \n",
    "#     application.add_handler(CommandHandler(\"start\", start))\n",
    "#     application.add_handler(MessageHandler(filters.PHOTO, recognize_text))\n",
    "# \n",
    "#     application.run_polling()\n",
    "# \n",
    "# \n",
    "# if __name__ == '__main__':\n",
    "#     setup_and_start_bot()"
   ],
   "id": "c6e29dff19ab3638"
  }
 ],
 "metadata": {
  "kernelspec": {
   "display_name": "Python 3",
   "language": "python",
   "name": "python3"
  },
  "language_info": {
   "codemirror_mode": {
    "name": "ipython",
    "version": 2
   },
   "file_extension": ".py",
   "mimetype": "text/x-python",
   "name": "python",
   "nbconvert_exporter": "python",
   "pygments_lexer": "ipython2",
   "version": "2.7.6"
  }
 },
 "nbformat": 4,
 "nbformat_minor": 5
}
