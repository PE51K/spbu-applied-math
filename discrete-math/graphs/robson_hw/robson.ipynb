{
 "cells": [
  {
   "cell_type": "code",
   "execution_count": 1,
   "outputs": [],
   "source": [
    "import numpy as np"
   ],
   "metadata": {
    "collapsed": false,
    "ExecuteTime": {
     "end_time": "2023-10-30T16:57:18.487989313Z",
     "start_time": "2023-10-30T16:57:18.266368419Z"
    }
   },
   "id": "a770b50520c63de9"
  },
  {
   "cell_type": "code",
   "execution_count": 2,
   "id": "initial_id",
   "metadata": {
    "collapsed": true,
    "ExecuteTime": {
     "end_time": "2023-10-30T16:57:18.548147056Z",
     "start_time": "2023-10-30T16:57:18.493926105Z"
    }
   },
   "outputs": [],
   "source": [
    "# Степень вершины (vertex) графа\n",
    "def vertex_degree(graph, vertex):\n",
    "    degree = np.sum(graph[vertex, :])\n",
    "    return degree\n",
    "\n",
    "\n",
    "# Соседи вершины (vertex) графа\n",
    "def find_neighbors(graph, vertex):\n",
    "    neighbors_row = graph[vertex, :]\n",
    "    neighbor_indices = np.where(neighbors_row == 1)[1]\n",
    "    return list(neighbor_indices)\n",
    "\n",
    "\n",
    "# Соседи вершины (vertex) графа + вершина\n",
    "def find_neighbors_plus_vertex(graph, vertex):\n",
    "\treturn find_neighbors(graph, vertex) + [vertex]\n",
    "\n",
    "\n",
    "# Соседи соседей вершин кроме начальной вершины\n",
    "def find_neighbors_of_neighbors_minus_vertex(graph, vertex):\n",
    "    neighbors = find_neighbors(graph, vertex)\n",
    "    neighbors_of_neighbors = []\n",
    "    for neighbor in neighbors:\n",
    "        neighbors_of_neighbors += find_neighbors(graph, neighbor)\n",
    "    neighbors_of_neighbors = set(neighbors_of_neighbors)\n",
    "    return neighbors_of_neighbors - set([vertex])\n",
    "\n",
    "\n",
    "# Проверка на то, домирует ли вершина A (vertex_A) над вершиной B (vertex_B) в графе (graph)\n",
    "def is_dominating(graph, vertex_A, vertex_B):\n",
    "    neighbors_A = set(find_neighbors_plus_vertex(graph, vertex_A))\n",
    "    neighbors_B = set(find_neighbors_plus_vertex(graph, vertex_B))\n",
    "    return neighbors_A.issubset(neighbors_B)\n",
    "\n",
    "\n",
    "# Проверка на то, является ли граф (graph) связным\n",
    "def is_connected(graph):\n",
    "    def dfs(start, visited):\n",
    "        visited[start] = True\n",
    "        for neighbor in range(len(graph)):\n",
    "            if graph[start, neighbor] == 1 and not visited[neighbor]:\n",
    "                dfs(neighbor, visited)\n",
    "                \n",
    "    num_vertices = len(graph)\n",
    "    visited = [False] * num_vertices\n",
    "    dfs(0, visited)\n",
    "    \n",
    "    return all(visited)\n",
    "\n",
    "\n",
    "# Получить подграф с вершинами (component) из графа (graph)\n",
    "def extract_subgraph(graph, component):\n",
    "    num_vertices = len(graph)\n",
    "    subgraph = np.zeros((len(component), len(component)), dtype=int)\n",
    "\n",
    "    for i in range(len(component)):\n",
    "        for j in range(len(component)):\n",
    "            subgraph[i][j] = graph[component[i], component[j]]\n",
    "\n",
    "    return subgraph\n",
    "\n",
    "\n",
    "# Найти самую маленькую компоненту связности в графе (graph)\n",
    "def find_smallest_connected_component(graph):\n",
    "    def dfs(start, visited, component):\n",
    "        visited[start] = True\n",
    "        component.append(start)\n",
    "        for neighbor in range(len(graph)):\n",
    "            if graph[start, neighbor] == 1 and not visited[neighbor]:\n",
    "                dfs(neighbor, visited, component)\n",
    "\n",
    "    num_vertices = len(graph)\n",
    "    visited = [False] * num_vertices\n",
    "    smallest_component = None\n",
    "\n",
    "    for vertex in range(num_vertices):\n",
    "        if not visited[vertex]:\n",
    "            current_component = []\n",
    "            dfs(vertex, visited, current_component)\n",
    "            if smallest_component is None or len(current_component) < len(smallest_component):\n",
    "                smallest_component = current_component\n",
    "\n",
    "    return extract_subgraph(graph, np.sort(smallest_component))\n",
    "\n",
    "\n",
    "# Найти минимальную вершины с минимальной степенью в графе (graph)\n",
    "def find_minimal_degree_vertices(graph):\n",
    "    degrees = np.sum(graph, axis=1)\n",
    "    min_degree = np.min(degrees)\n",
    "    minimal_degree_vertices = np.where(degrees == min_degree)[0]\n",
    "    return minimal_degree_vertices\n",
    "\n",
    "\n",
    "# Найти вершину с максимальной степенью среди соседей вершины (vertex)\n",
    "def find_maximal_degree_neighbor(graph, vertex):\n",
    "    neighbors = find_neighbors(graph, vertex)\n",
    "    degrees = np.sum(graph, axis=1)\n",
    "    max_degree_neighbor = None\n",
    "    max_degree = -1\n",
    "\n",
    "    for neighbor in neighbors:\n",
    "        if degrees[neighbor] > max_degree:\n",
    "            max_degree_neighbor = neighbor\n",
    "            max_degree = degrees[neighbor]\n",
    "\n",
    "    return max_degree_neighbor\n",
    "\n",
    "\n",
    "# Найти минимальную вершину графа с соседом с максимальной степенью\n",
    "def  find_min_degree_A_with_max_degree_B_neighbor(graph):\n",
    "    minimal_degree_vertices = find_minimal_degree_vertices(G)\n",
    "    \n",
    "    A_with_max_B_degree, maxB_degree, maxB = -1, -1, -1\n",
    "    for A in minimal_degree_vertices:\n",
    "        B = find_maximal_degree_neighbor(G, A)\n",
    "        B_degree = vertex_degree(G, B)\n",
    "        if B_degree > maxB_degree:\n",
    "            A_with_max_B_degree = A\n",
    "            maxB_degree = B_degree\n",
    "            maxB = B\n",
    "            \n",
    "    return A_with_max_B_degree, maxB\n",
    "\n",
    "\n",
    "# Удалить вершины (vertexes) из графа (graph)\n",
    "def remove_vertexes(graph, vertexes):\n",
    "    graph = np.delete(graph, vertexes, axis=0)\n",
    "    graph = np.delete(graph, vertexes, axis=1)\n",
    "    return graph"
   ]
  },
  {
   "cell_type": "code",
   "execution_count": 3,
   "outputs": [],
   "source": [
    "G = np.matrix([\n",
    "\t[0, 0, 0, 0, 1, 0, 0, 1, 1],\n",
    "\t[0, 0, 0, 1, 0, 1, 0, 0, 0],\n",
    "\t[0, 0, 0, 1, 0, 1, 0, 0, 0],\n",
    "\t[0, 1, 1, 0, 0, 0, 1, 0, 0],\n",
    "\t[1, 0, 0, 0, 0, 0, 1, 1, 1],\n",
    "\t[0, 1, 1, 0, 0, 0, 0, 1, 0],\n",
    "\t[0, 0, 0, 1, 1, 0, 0, 1, 1],\n",
    "\t[1, 0, 0, 0, 1, 1, 1, 0, 1],\n",
    "\t[1, 0, 0, 0, 1, 0, 1, 1, 0],\n",
    "])"
   ],
   "metadata": {
    "collapsed": false,
    "ExecuteTime": {
     "end_time": "2023-10-30T16:57:18.591566769Z",
     "start_time": "2023-10-30T16:57:18.534385972Z"
    }
   },
   "id": "c824eae4b39eba2f"
  },
  {
   "cell_type": "markdown",
   "source": [
    "вершинки 6 4 1 | 2 3 1 7"
   ],
   "metadata": {
    "collapsed": false
   },
   "id": "80e6c9710d4121dd"
  },
  {
   "cell_type": "markdown",
   "source": [
    "5 | 1 1 4 2 | 19 11 3 2 "
   ],
   "metadata": {
    "collapsed": false
   },
   "id": "f1b2556ffa9435c"
  },
  {
   "cell_type": "markdown",
   "source": [
    "ms^2(G − N'(A), N^2(A))"
   ],
   "metadata": {
    "collapsed": false
   },
   "id": "77b0bd2642123117"
  },
  {
   "cell_type": "code",
   "execution_count": 30,
   "outputs": [
    {
     "data": {
      "text/plain": "(1, 3)"
     },
     "execution_count": 30,
     "metadata": {},
     "output_type": "execute_result"
    }
   ],
   "source": [
    "find_min_degree_A_with_max_degree_B_neighbor(G)"
   ],
   "metadata": {
    "collapsed": false,
    "ExecuteTime": {
     "end_time": "2023-10-30T17:29:07.993488921Z",
     "start_time": "2023-10-30T17:29:07.932408823Z"
    }
   },
   "id": "5c9903cf0700e540"
  },
  {
   "cell_type": "code",
   "execution_count": 34,
   "outputs": [
    {
     "data": {
      "text/plain": "[0, 2, 4, 6, 7, 8]"
     },
     "execution_count": 34,
     "metadata": {},
     "output_type": "execute_result"
    }
   ],
   "source": [
    "# G − N'(A)\n",
    "list(set(range(9)) - set(find_neighbors_plus_vertex(G, 1)))"
   ],
   "metadata": {
    "collapsed": false,
    "ExecuteTime": {
     "end_time": "2023-10-30T17:30:13.090377607Z",
     "start_time": "2023-10-30T17:30:13.082223453Z"
    }
   },
   "id": "8cf9980057e1ab82"
  },
  {
   "cell_type": "code",
   "execution_count": 42,
   "outputs": [
    {
     "name": "stdout",
     "output_type": "stream",
     "text": [
      "2 4 5\n"
     ]
    },
    {
     "data": {
      "text/plain": "{2, 6, 7}"
     },
     "execution_count": 42,
     "metadata": {},
     "output_type": "execute_result"
    }
   ],
   "source": [
    "# N^2(A)\n",
    "print(vertex_degree(G, 2), vertex_degree(G, 6), vertex_degree(G, 7))\n",
    "\n",
    "find_neighbors_of_neighbors_minus_vertex(G, 1)"
   ],
   "metadata": {
    "collapsed": false,
    "ExecuteTime": {
     "end_time": "2023-10-30T17:33:26.857429265Z",
     "start_time": "2023-10-30T17:33:26.834318738Z"
    }
   },
   "id": "d1dc0fc86ab6c081"
  },
  {
   "cell_type": "code",
   "execution_count": 50,
   "outputs": [
    {
     "data": {
      "text/plain": "array([[0, 1, 1],\n       [1, 0, 1],\n       [1, 1, 0]])"
     },
     "execution_count": 50,
     "metadata": {},
     "output_type": "execute_result"
    }
   ],
   "source": [
    "G2 = extract_subgraph(G, list(set(range(9)) - set(find_neighbors_plus_vertex(G, 1))))\n",
    "\n",
    "G22 = extract_subgraph(G, list(set(range(9)) - set(find_neighbors_plus_vertex(G, 1)) - find_neighbors_of_neighbors_minus_vertex(G, 1)))\n",
    "\n",
    "G22"
   ],
   "metadata": {
    "collapsed": false,
    "ExecuteTime": {
     "end_time": "2023-10-30T17:40:51.990035368Z",
     "start_time": "2023-10-30T17:40:51.963859864Z"
    }
   },
   "id": "fb31d5dcee26a823"
  },
  {
   "cell_type": "code",
   "execution_count": 49,
   "outputs": [
    {
     "data": {
      "text/plain": "{0, 4, 8}"
     },
     "execution_count": 49,
     "metadata": {},
     "output_type": "execute_result"
    }
   ],
   "source": [
    "set(range(9)) - set(find_neighbors_plus_vertex(G, 1)) - find_neighbors_of_neighbors_minus_vertex(G, 1)"
   ],
   "metadata": {
    "collapsed": false,
    "ExecuteTime": {
     "end_time": "2023-10-30T17:40:48.175342047Z",
     "start_time": "2023-10-30T17:40:48.164629630Z"
    }
   },
   "id": "ead9daf01f7b369c"
  }
 ],
 "metadata": {
  "kernelspec": {
   "display_name": "Python 3",
   "language": "python",
   "name": "python3"
  },
  "language_info": {
   "codemirror_mode": {
    "name": "ipython",
    "version": 2
   },
   "file_extension": ".py",
   "mimetype": "text/x-python",
   "name": "python",
   "nbconvert_exporter": "python",
   "pygments_lexer": "ipython2",
   "version": "2.7.6"
  }
 },
 "nbformat": 4,
 "nbformat_minor": 5
}
